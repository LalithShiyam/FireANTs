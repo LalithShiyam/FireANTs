{
 "cells": [
  {
   "cell_type": "code",
   "execution_count": 1,
   "id": "6ad1e82f",
   "metadata": {
    "scrolled": false
   },
   "outputs": [],
   "source": [
    "%reload_ext autoreload\n",
    "%autoreload 2\n",
    "from cudants.io.image import Image, BatchedImages\n",
    "from cudants.registration.rigid import RigidRegistration\n",
    "from cudants.registration.affine import AffineRegistration\n",
    "import torch\n",
    "from torch.optim import SGD, Adam\n",
    "from torch.nn import functional as F\n",
    "from torch import nn\n",
    "import os\n",
    "os.environ['CUDA_VISIBLE_DEVICES'] = '5'"
   ]
  },
  {
   "cell_type": "code",
   "execution_count": 32,
   "id": "e20d323e",
   "metadata": {
    "scrolled": false
   },
   "outputs": [],
   "source": [
    "# img1 = Image.load_file('/data/rohitrango/BRATS2021/training/BraTS2021_00598/BraTS2021_00598_t1.nii.gz')\n",
    "# img2 = Image.load_file('/data/rohitrango/BRATS2021/training/BraTS2021_00597/BraTS2021_00597_t1.nii.gz')\n",
    "\n",
    "# img2 = Image.load_file('/data/BRATS2021/training/BraTS2021_01100/BraTS2021_01100_t1.nii.gz')\n",
    "# img2 = Image.load_file('/data/BRATS2021/training/BraTS2021_00262/BraTS2021_00262_t1.nii.gz')\n",
    "# img2 = Image.load_file('/data/BRATS2021/training/BraTS2021_00403/BraTS2021_00403_t1.nii.gz')\n",
    "\n",
    "# img1 = Image.load_file(\"images/atlas_2mm_1011_3.nii.gz\")\n",
    "# img2 = Image.load_file(\"images/atlas_2mm_1013_3.nii.gz\")\n",
    "# img2 = Image.load_file(\"images/atlas_2mm_1001_3.nii.gz\")\n",
    "\n",
    "f1 = 1\n",
    "m1 = 10\n",
    "\n",
    "img1 = Image.load_file(f\"/data/rohitrango/brain_data/MGH10/Brains/g{f1}.img\")\n",
    "img2 = Image.load_file(f\"/data/rohitrango/brain_data/MGH10/Brains/g{m1}.img\")\n",
    "\n",
    "label1 = Image.load_file(f\"/data/rohitrango/brain_data/MGH10/AtlasesCommonLabels/g{f1}.img\", is_segmentation=True)\n",
    "label2 = Image.load_file(f\"/data/rohitrango/brain_data/MGH10/AtlasesCommonLabels/g{m1}.img\", is_segmentation=True)\n",
    "\n",
    "# img1 = Image.load_file(\"testing/atlas_2mm_1000_3.nii.gz\")\n",
    "# img2 = Image.load_file(\"testing/reslice_affine_fx_1000_mv_1001.nii.gz\")"
   ]
  },
  {
   "cell_type": "code",
   "execution_count": 34,
   "id": "faa170f4",
   "metadata": {},
   "outputs": [
    {
     "data": {
      "text/plain": [
       "tensor([[[0., 0., 0., 0.],\n",
       "         [0., 0., 0., 0.],\n",
       "         [0., 0., 0., 0.],\n",
       "         [0., 0., 0., 0.]]], device='cuda:0')"
      ]
     },
     "execution_count": 34,
     "metadata": {},
     "output_type": "execute_result"
    }
   ],
   "source": [
    "img1.torch2phy - label1.torch2phy"
   ]
  },
  {
   "cell_type": "code",
   "execution_count": 4,
   "id": "a233ce25",
   "metadata": {},
   "outputs": [
    {
     "data": {
      "text/plain": [
       "torch.Size([1, 106, 182, 218, 182])"
      ]
     },
     "execution_count": 4,
     "metadata": {},
     "output_type": "execute_result"
    }
   ],
   "source": [
    "label1.array.shape"
   ]
  },
  {
   "cell_type": "code",
   "execution_count": 5,
   "id": "657ba70c",
   "metadata": {
    "scrolled": false
   },
   "outputs": [],
   "source": [
    "%matplotlib inline\n",
    "import numpy as np\n",
    "import matplotlib.pyplot as plt\n",
    "from ipywidgets import interact, interactive, IntSlider, Layout\n",
    "\n",
    "def browse_image_slices(image_3d):\n",
    "    # Infer the dimensions of image\n",
    "    if len(image_3d.shape) == 3:\n",
    "        dim_x, dim_y, dim_z = image_3d.shape\n",
    "        color = False\n",
    "    else:\n",
    "        dim_x, dim_y, dim_z = image_3d.shape[:-1]\n",
    "        color = True\n",
    "    # Define a function to visualize the slices\n",
    "    def plot_slice(x, y, z):\n",
    "        fig, ax = plt.subplots(1, 3, figsize=(15, 5))\n",
    "\n",
    "        ax[0].imshow(image_3d[x, :, :], cmap='gray' if not color else None)\n",
    "        ax[0].set_title('Slice at X = %d' % x)\n",
    "\n",
    "        ax[1].imshow(image_3d[:, y, :], cmap='gray' if not color else None)\n",
    "        ax[1].set_title('Slice at Y = %d' % y)\n",
    "\n",
    "        ax[2].imshow(image_3d[:, :, z], cmap='gray' if not color else None)\n",
    "        ax[2].set_title('Slice at Z = %d' % z)\n",
    "\n",
    "        plt.show()\n",
    "\n",
    "    # Use interact to create the UI with sliders\n",
    "    interact(plot_slice,\n",
    "             x=IntSlider(min=0, max=dim_x-1, value=dim_x//2, layout=Layout(width='600px')),\n",
    "             y=IntSlider(min=0, max=dim_y-1, value=dim_y//2, layout=Layout(width='600px')),\n",
    "             z=IntSlider(min=0, max=dim_z-1, value=dim_z//2, layout=Layout(width='600px')))"
   ]
  },
  {
   "cell_type": "code",
   "execution_count": 6,
   "id": "16125c47",
   "metadata": {
    "scrolled": false
   },
   "outputs": [],
   "source": [
    "# Test the function\n",
    "# browse_image_slices(img1.array[0, 0].data.cpu().numpy())"
   ]
  },
  {
   "cell_type": "code",
   "execution_count": 7,
   "id": "c3b83608",
   "metadata": {
    "scrolled": false
   },
   "outputs": [],
   "source": [
    "# Test the function\n",
    "# browse_image_slices(img2.array[0, 0].data.cpu().numpy())"
   ]
  },
  {
   "cell_type": "code",
   "execution_count": 8,
   "id": "8bb4f09a",
   "metadata": {
    "scrolled": false
   },
   "outputs": [
    {
     "name": "stderr",
     "output_type": "stream",
     "text": [
      "/data/rohitrango/code/CUDANTs/cudants/utils/imageutils.py:108: UserWarning: operator() sees varying value in profiling, ignoring and this should be handled by GUARD logic (Triggered internally at ../torch/csrc/jit/codegen/cuda/parser.cpp:3668.)\n",
      "  image_smooth = separable_filtering(image, gaussians)\n",
      "/data/rohitrango/code/CUDANTs/cudants/registration/affine.py:82: UserWarning: operator() profile_node %70 : int[] = prim::profile_ivalue[profile_failed=\"varying profile values\"](%s.1)\n",
      " does not have profile information (Triggered internally at ../torch/csrc/jit/codegen/cuda/graph_fuser.cpp:105.)\n",
      "  moving_image_blur = separable_filtering(moving_arrays, gaussians)\n",
      "scale: 8, iter: 73/200, loss: -0.894096:  37%|███▋      | 74/200 [00:00<00:00, 174.51it/s]\n",
      "scale: 4, iter: 99/100, loss: -0.840780: 100%|██████████| 100/100 [00:00<00:00, 181.44it/s]\n",
      "scale: 2, iter: 24/50, loss: -0.786262:  50%|█████     | 25/50 [00:00<00:00, 116.54it/s]\n",
      "scale: 1, iter: 19/20, loss: -0.766975: 100%|██████████| 20/20 [00:00<00:00, 23.05it/s]\n"
     ]
    }
   ],
   "source": [
    "from cudants.registration.affine import AffineRegistration\n",
    "fixed = BatchedImages([img1,])\n",
    "moving = BatchedImages([img2,])\n",
    "# transform = AffineRegistration([8, 4, 2, 1], [1000, 500, 250, 100], fixed, moving, \\\n",
    "transform = AffineRegistration([8, 4, 2, 1], [200, 100, 50, 20], fixed, moving, \\\n",
    "    loss_type='cc', optimizer='Adam', optimizer_lr=3e-3, cc_kernel_size=5)\n",
    "moved = transform.optimize(save_transformed=True)"
   ]
  },
  {
   "cell_type": "code",
   "execution_count": 9,
   "id": "d6043fc4",
   "metadata": {
    "scrolled": true
   },
   "outputs": [
    {
     "name": "stdout",
     "output_type": "stream",
     "text": [
      "tensor([[[ 1.0200e+00,  7.9235e-03, -2.5608e-02, -3.2035e-01],\n",
      "         [-2.1867e-02,  1.0101e+00, -8.7813e-04,  8.7506e-02],\n",
      "         [ 8.8729e-03, -3.1474e-02,  1.0089e+00,  3.3885e-01],\n",
      "         [ 0.0000e+00,  0.0000e+00,  0.0000e+00,  1.0000e+00]]],\n",
      "       device='cuda:0', grad_fn=<CatBackward0>)\n"
     ]
    }
   ],
   "source": [
    "print(transform.get_affine_matrix())"
   ]
  },
  {
   "cell_type": "code",
   "execution_count": null,
   "id": "7772940a",
   "metadata": {},
   "outputs": [],
   "source": []
  },
  {
   "cell_type": "code",
   "execution_count": 10,
   "id": "3ea94413",
   "metadata": {
    "scrolled": false
   },
   "outputs": [],
   "source": [
    "# browse_image_slices(moved[-1][0, 0].data.cpu().numpy() - img1.array[0, 0].data.cpu().numpy())\n",
    "# browse_image_slices(moved[-1][0, 0].data.cpu().numpy())\n",
    "# browse_image_slices(img1.array[0, 0].data.cpu().numpy())"
   ]
  },
  {
   "cell_type": "code",
   "execution_count": 11,
   "id": "66399136",
   "metadata": {
    "scrolled": true
   },
   "outputs": [],
   "source": [
    "# browse_image_slices(0*moved[-1][0, 0].data.cpu().numpy() - -1*img2.array[0, 0].data.cpu().numpy())"
   ]
  },
  {
   "cell_type": "markdown",
   "id": "866ed049",
   "metadata": {},
   "source": [
    "## SyN"
   ]
  },
  {
   "cell_type": "code",
   "execution_count": 83,
   "id": "a07e960c",
   "metadata": {
    "scrolled": true
   },
   "outputs": [
    {
     "name": "stderr",
     "output_type": "stream",
     "text": [
      "scale: 4, iter: 40/200, loss: -0.842070:  20%|██        | 40/200 [00:01<00:06, 24.53it/s]\n",
      "scale: 2, iter: 25/100, loss: -0.676889:  25%|██▌       | 25/100 [00:01<00:03, 21.16it/s]\n",
      "scale: 1, iter: 28/50, loss: -0.568617:  56%|█████▌    | 28/50 [00:05<00:04,  5.04it/s]\n"
     ]
    }
   ],
   "source": [
    "from cudants.registration.syn import SyNRegistration\n",
    "fixed = BatchedImages([img1,])\n",
    "moving = BatchedImages([img2,])\n",
    "                        \n",
    "reg = SyNRegistration([4, 2, 1], [200, 100, 50], fixed, moving, \n",
    "                        integrator_n=10, init_affine=None, #transform.get_affine_matrix().detach(),\n",
    "#                          optimizer='SGD', optimizer_lr=1, optimizer_momentum=0.95,\n",
    "#                          cc_kernel_size=3,\n",
    "#                          optimizer='Adam', optimizer_lr=1e-4, optimizer_params={},\n",
    "#                          deformation_type='geodesic', optimizer='SGD', optimizer_lr=1, reduction='mean', optimizer_params={},\n",
    "#                               optimizer_params={\"scaledown\": True, },\n",
    "#                         deformation_type='geodesic', optimizer='SGD', optimizer_lr=1, reduction='mean', optimizer_params={'weight_decay': 1e-5},\n",
    "                        deformation_type='compositive', optimizer='adam', optimizer_lr=0.2, reduction='sum',\n",
    "                        loss_params={'unsigned': False,},\n",
    "#                         optimizer_params={'beta1': 0.75, 'beta2': 0.9},\n",
    "#                                   optimizer_params={'scaledown': False, 'eps': 1e-6},\n",
    "                         cc_kernel_size=11,\n",
    "                         smooth_grad_sigma=1, smooth_warp_sigma=1)\n",
    "saved_deformable = reg.optimize(save_transformed=True)"
   ]
  },
  {
   "cell_type": "code",
   "execution_count": 71,
   "id": "861d1e6f",
   "metadata": {},
   "outputs": [
    {
     "name": "stderr",
     "output_type": "stream",
     "text": [
      "  0%|          | 0/200 [00:00<?, ?it/s]"
     ]
    },
    {
     "name": "stderr",
     "output_type": "stream",
     "text": [
      "scale: 4, iter: 27/200, loss: -0.833509:  14%|█▎        | 27/200 [00:00<00:03, 51.06it/s]\n",
      "scale: 2, iter: 19/200, loss: -0.676512:  10%|▉         | 19/200 [00:00<00:04, 38.05it/s]\n",
      "scale: 1, iter: 21/100, loss: -0.570111:  21%|██        | 21/100 [00:01<00:05, 13.28it/s]\n"
     ]
    }
   ],
   "source": [
    "from cudants.registration.deformation.geodesic import GeodesicShooting\n",
    "from cudants.registration.greedy import GreedyRegistration\n",
    "fixed = BatchedImages([img1,])\n",
    "moving = BatchedImages([img2,])\n",
    "reg = GreedyRegistration([4, 2, 1], [200, 200, 100], fixed, moving, \n",
    "# reg = GreedyRegistration([4, 2, 1], [20, 10, 5], fixed, moving, \n",
    "                        integrator_n=10, init_affine=None, # transform.get_affine_matrix().detach(),\n",
    "#                          optimizer='SGD', optimizer_lr=10, optimizer_params={'momentum': 0.8},\n",
    "#                         optimizer='Adam', optimizer_lr=1e-3, optimizer_params={}, \n",
    "#                          deformation_type='geodesic',\n",
    "#                          optimizer_params={'multiply_jacobian': False, 'scaledown': False},\n",
    "                        loss_params={'unsigned': False,},\n",
    "                         deformation_type='compositive', optimizer_lr=0.5, optimizer='adam',\n",
    "                         cc_kernel_size=11,\n",
    "                         smooth_grad_sigma=1, smooth_warp_sigma=1)\n",
    "saved_deformable = reg.optimize(save_transformed=True)"
   ]
  },
  {
   "cell_type": "code",
   "execution_count": 72,
   "id": "0463632f",
   "metadata": {},
   "outputs": [],
   "source": [
    "# print(reg.loss_fn(saved_deformable[-1].cuda(), img1.array.cuda()) / (np.prod(img1.array.shape) if reg.reduction == 'sum' else 1))\n",
    "# print(((img1.array.cuda() - saved_deformable[-1].cuda()).abs()).mean() / img1.array.max())"
   ]
  },
  {
   "cell_type": "code",
   "execution_count": 84,
   "id": "3d4fd4be",
   "metadata": {},
   "outputs": [
    {
     "name": "stdout",
     "output_type": "stream",
     "text": [
      "tensor([[[[[-1.0000, -1.0000, -1.0000],\n",
      "           [-0.9889, -1.0000, -1.0000],\n",
      "           [-0.9779, -1.0000, -1.0000],\n",
      "           ...,\n",
      "           [ 0.9779, -1.0000, -1.0000],\n",
      "           [ 0.9889, -1.0000, -1.0000],\n",
      "           [ 1.0000, -1.0000, -1.0000]],\n",
      "\n",
      "          [[-1.0000, -0.9908, -1.0000],\n",
      "           [-0.9889, -0.9908, -1.0000],\n",
      "           [-0.9779, -0.9908, -1.0000],\n",
      "           ...,\n",
      "           [ 0.9779, -0.9908, -1.0000],\n",
      "           [ 0.9889, -0.9908, -1.0000],\n",
      "           [ 1.0000, -0.9908, -1.0000]],\n",
      "\n",
      "          [[-1.0000, -0.9816, -1.0000],\n",
      "           [-0.9889, -0.9816, -1.0000],\n",
      "           [-0.9779, -0.9816, -1.0000],\n",
      "           ...,\n",
      "           [ 0.9779, -0.9816, -1.0000],\n",
      "           [ 0.9889, -0.9816, -1.0000],\n",
      "           [ 1.0000, -0.9816, -1.0000]],\n",
      "\n",
      "          ...,\n",
      "\n",
      "          [[-1.0000,  0.9816, -1.0000],\n",
      "           [-0.9889,  0.9816, -1.0000],\n",
      "           [-0.9779,  0.9816, -1.0000],\n",
      "           ...,\n",
      "           [ 0.9779,  0.9816, -1.0000],\n",
      "           [ 0.9889,  0.9816, -1.0000],\n",
      "           [ 1.0000,  0.9816, -1.0000]],\n",
      "\n",
      "          [[-1.0000,  0.9908, -1.0000],\n",
      "           [-0.9889,  0.9908, -1.0000],\n",
      "           [-0.9779,  0.9908, -1.0000],\n",
      "           ...,\n",
      "           [ 0.9779,  0.9908, -1.0000],\n",
      "           [ 0.9889,  0.9908, -1.0000],\n",
      "           [ 1.0000,  0.9908, -1.0000]],\n",
      "\n",
      "          [[-1.0000,  1.0000, -1.0000],\n",
      "           [-0.9889,  1.0000, -1.0000],\n",
      "           [-0.9779,  1.0000, -1.0000],\n",
      "           ...,\n",
      "           [ 0.9779,  1.0000, -1.0000],\n",
      "           [ 0.9889,  1.0000, -1.0000],\n",
      "           [ 1.0000,  1.0000, -1.0000]]],\n",
      "\n",
      "\n",
      "         [[[-1.0000, -1.0000, -0.9889],\n",
      "           [-0.9889, -1.0000, -0.9889],\n",
      "           [-0.9779, -1.0000, -0.9889],\n",
      "           ...,\n",
      "           [ 0.9779, -1.0000, -0.9889],\n",
      "           [ 0.9889, -1.0000, -0.9889],\n",
      "           [ 1.0000, -1.0000, -0.9889]],\n",
      "\n",
      "          [[-1.0000, -0.9908, -0.9889],\n",
      "           [-0.9889, -0.9908, -0.9889],\n",
      "           [-0.9779, -0.9908, -0.9889],\n",
      "           ...,\n",
      "           [ 0.9779, -0.9908, -0.9889],\n",
      "           [ 0.9889, -0.9908, -0.9889],\n",
      "           [ 1.0000, -0.9908, -0.9889]],\n",
      "\n",
      "          [[-1.0000, -0.9816, -0.9889],\n",
      "           [-0.9889, -0.9816, -0.9889],\n",
      "           [-0.9779, -0.9816, -0.9889],\n",
      "           ...,\n",
      "           [ 0.9779, -0.9816, -0.9889],\n",
      "           [ 0.9889, -0.9816, -0.9889],\n",
      "           [ 1.0000, -0.9816, -0.9889]],\n",
      "\n",
      "          ...,\n",
      "\n",
      "          [[-1.0000,  0.9816, -0.9889],\n",
      "           [-0.9889,  0.9816, -0.9889],\n",
      "           [-0.9779,  0.9816, -0.9889],\n",
      "           ...,\n",
      "           [ 0.9779,  0.9816, -0.9889],\n",
      "           [ 0.9889,  0.9816, -0.9889],\n",
      "           [ 1.0000,  0.9816, -0.9889]],\n",
      "\n",
      "          [[-1.0000,  0.9908, -0.9889],\n",
      "           [-0.9889,  0.9908, -0.9889],\n",
      "           [-0.9779,  0.9908, -0.9889],\n",
      "           ...,\n",
      "           [ 0.9779,  0.9908, -0.9889],\n",
      "           [ 0.9889,  0.9908, -0.9889],\n",
      "           [ 1.0000,  0.9908, -0.9889]],\n",
      "\n",
      "          [[-1.0000,  1.0000, -0.9890],\n",
      "           [-0.9889,  1.0000, -0.9889],\n",
      "           [-0.9779,  1.0000, -0.9889],\n",
      "           ...,\n",
      "           [ 0.9779,  1.0000, -0.9889],\n",
      "           [ 0.9889,  1.0000, -0.9889],\n",
      "           [ 1.0000,  1.0000, -0.9889]]],\n",
      "\n",
      "\n",
      "         [[[-1.0000, -1.0000, -0.9779],\n",
      "           [-0.9889, -1.0000, -0.9779],\n",
      "           [-0.9779, -1.0000, -0.9779],\n",
      "           ...,\n",
      "           [ 0.9779, -1.0000, -0.9779],\n",
      "           [ 0.9889, -1.0000, -0.9779],\n",
      "           [ 1.0000, -1.0000, -0.9779]],\n",
      "\n",
      "          [[-1.0000, -0.9908, -0.9779],\n",
      "           [-0.9889, -0.9908, -0.9779],\n",
      "           [-0.9779, -0.9908, -0.9779],\n",
      "           ...,\n",
      "           [ 0.9779, -0.9908, -0.9779],\n",
      "           [ 0.9889, -0.9908, -0.9779],\n",
      "           [ 1.0000, -0.9908, -0.9779]],\n",
      "\n",
      "          [[-1.0000, -0.9816, -0.9779],\n",
      "           [-0.9889, -0.9816, -0.9779],\n",
      "           [-0.9779, -0.9816, -0.9779],\n",
      "           ...,\n",
      "           [ 0.9779, -0.9816, -0.9779],\n",
      "           [ 0.9889, -0.9816, -0.9779],\n",
      "           [ 1.0000, -0.9816, -0.9779]],\n",
      "\n",
      "          ...,\n",
      "\n",
      "          [[-1.0000,  0.9816, -0.9779],\n",
      "           [-0.9889,  0.9816, -0.9779],\n",
      "           [-0.9779,  0.9816, -0.9779],\n",
      "           ...,\n",
      "           [ 0.9779,  0.9816, -0.9779],\n",
      "           [ 0.9889,  0.9816, -0.9779],\n",
      "           [ 1.0000,  0.9816, -0.9779]],\n",
      "\n",
      "          [[-1.0000,  0.9908, -0.9779],\n",
      "           [-0.9889,  0.9908, -0.9779],\n",
      "           [-0.9779,  0.9908, -0.9779],\n",
      "           ...,\n",
      "           [ 0.9779,  0.9908, -0.9779],\n",
      "           [ 0.9889,  0.9908, -0.9779],\n",
      "           [ 1.0000,  0.9908, -0.9779]],\n",
      "\n",
      "          [[-1.0000,  1.0000, -0.9779],\n",
      "           [-0.9889,  1.0000, -0.9779],\n",
      "           [-0.9779,  1.0000, -0.9779],\n",
      "           ...,\n",
      "           [ 0.9779,  1.0000, -0.9779],\n",
      "           [ 0.9889,  1.0000, -0.9779],\n",
      "           [ 1.0000,  1.0000, -0.9779]]],\n",
      "\n",
      "\n",
      "         ...,\n",
      "\n",
      "\n",
      "         [[[-1.0000, -1.0000,  0.9779],\n",
      "           [-0.9889, -1.0000,  0.9779],\n",
      "           [-0.9779, -1.0000,  0.9779],\n",
      "           ...,\n",
      "           [ 0.9779, -1.0000,  0.9779],\n",
      "           [ 0.9889, -1.0000,  0.9779],\n",
      "           [ 1.0000, -1.0000,  0.9779]],\n",
      "\n",
      "          [[-1.0000, -0.9908,  0.9779],\n",
      "           [-0.9889, -0.9908,  0.9779],\n",
      "           [-0.9779, -0.9908,  0.9779],\n",
      "           ...,\n",
      "           [ 0.9779, -0.9908,  0.9779],\n",
      "           [ 0.9889, -0.9908,  0.9779],\n",
      "           [ 1.0000, -0.9908,  0.9779]],\n",
      "\n",
      "          [[-1.0000, -0.9816,  0.9779],\n",
      "           [-0.9889, -0.9816,  0.9779],\n",
      "           [-0.9779, -0.9816,  0.9779],\n",
      "           ...,\n",
      "           [ 0.9779, -0.9816,  0.9779],\n",
      "           [ 0.9889, -0.9816,  0.9779],\n",
      "           [ 1.0000, -0.9816,  0.9779]],\n",
      "\n",
      "          ...,\n",
      "\n",
      "          [[-1.0000,  0.9816,  0.9779],\n",
      "           [-0.9889,  0.9816,  0.9779],\n",
      "           [-0.9779,  0.9816,  0.9779],\n",
      "           ...,\n",
      "           [ 0.9779,  0.9816,  0.9779],\n",
      "           [ 0.9889,  0.9816,  0.9779],\n",
      "           [ 1.0000,  0.9816,  0.9779]],\n",
      "\n",
      "          [[-1.0000,  0.9908,  0.9779],\n",
      "           [-0.9889,  0.9908,  0.9779],\n",
      "           [-0.9779,  0.9908,  0.9779],\n",
      "           ...,\n",
      "           [ 0.9779,  0.9908,  0.9779],\n",
      "           [ 0.9889,  0.9908,  0.9779],\n",
      "           [ 1.0000,  0.9908,  0.9779]],\n",
      "\n",
      "          [[-1.0000,  1.0000,  0.9779],\n",
      "           [-0.9889,  1.0000,  0.9779],\n",
      "           [-0.9779,  1.0000,  0.9779],\n",
      "           ...,\n",
      "           [ 0.9779,  1.0000,  0.9779],\n",
      "           [ 0.9889,  1.0000,  0.9779],\n",
      "           [ 1.0000,  1.0000,  0.9779]]],\n",
      "\n",
      "\n",
      "         [[[-1.0000, -1.0000,  0.9889],\n",
      "           [-0.9889, -1.0000,  0.9889],\n",
      "           [-0.9779, -1.0000,  0.9889],\n",
      "           ...,\n",
      "           [ 0.9779, -1.0000,  0.9889],\n",
      "           [ 0.9889, -1.0000,  0.9889],\n",
      "           [ 1.0000, -1.0000,  0.9889]],\n",
      "\n",
      "          [[-1.0000, -0.9908,  0.9889],\n",
      "           [-0.9889, -0.9908,  0.9889],\n",
      "           [-0.9779, -0.9908,  0.9889],\n",
      "           ...,\n",
      "           [ 0.9779, -0.9908,  0.9889],\n",
      "           [ 0.9889, -0.9908,  0.9889],\n",
      "           [ 1.0000, -0.9908,  0.9889]],\n",
      "\n",
      "          [[-1.0000, -0.9816,  0.9889],\n",
      "           [-0.9889, -0.9816,  0.9889],\n",
      "           [-0.9779, -0.9816,  0.9889],\n",
      "           ...,\n",
      "           [ 0.9779, -0.9816,  0.9889],\n",
      "           [ 0.9889, -0.9816,  0.9889],\n",
      "           [ 1.0000, -0.9816,  0.9889]],\n",
      "\n",
      "          ...,\n",
      "\n",
      "          [[-1.0000,  0.9816,  0.9889],\n",
      "           [-0.9889,  0.9816,  0.9889],\n",
      "           [-0.9779,  0.9816,  0.9889],\n",
      "           ...,\n",
      "           [ 0.9779,  0.9816,  0.9889],\n",
      "           [ 0.9889,  0.9816,  0.9889],\n",
      "           [ 1.0000,  0.9816,  0.9889]],\n",
      "\n",
      "          [[-1.0000,  0.9908,  0.9889],\n",
      "           [-0.9889,  0.9908,  0.9889],\n",
      "           [-0.9779,  0.9908,  0.9889],\n",
      "           ...,\n",
      "           [ 0.9779,  0.9908,  0.9889],\n",
      "           [ 0.9889,  0.9908,  0.9889],\n",
      "           [ 1.0000,  0.9908,  0.9890]],\n",
      "\n",
      "          [[-1.0000,  1.0000,  0.9890],\n",
      "           [-0.9889,  1.0000,  0.9889],\n",
      "           [-0.9779,  1.0000,  0.9889],\n",
      "           ...,\n",
      "           [ 0.9779,  1.0000,  0.9889],\n",
      "           [ 0.9890,  1.0000,  0.9890],\n",
      "           [ 1.0000,  1.0000,  0.9890]]],\n",
      "\n",
      "\n",
      "         [[[-1.0000, -1.0000,  1.0000],\n",
      "           [-0.9889, -1.0000,  1.0000],\n",
      "           [-0.9779, -1.0000,  1.0000],\n",
      "           ...,\n",
      "           [ 0.9779, -1.0000,  1.0000],\n",
      "           [ 0.9889, -1.0000,  1.0000],\n",
      "           [ 1.0000, -1.0000,  1.0000]],\n",
      "\n",
      "          [[-1.0000, -0.9908,  1.0000],\n",
      "           [-0.9889, -0.9908,  1.0000],\n",
      "           [-0.9779, -0.9908,  1.0000],\n",
      "           ...,\n",
      "           [ 0.9779, -0.9908,  1.0000],\n",
      "           [ 0.9889, -0.9908,  1.0000],\n",
      "           [ 1.0000, -0.9908,  1.0000]],\n",
      "\n",
      "          [[-1.0000, -0.9816,  1.0000],\n",
      "           [-0.9889, -0.9816,  1.0000],\n",
      "           [-0.9779, -0.9816,  1.0000],\n",
      "           ...,\n",
      "           [ 0.9779, -0.9816,  1.0000],\n",
      "           [ 0.9889, -0.9816,  1.0000],\n",
      "           [ 1.0000, -0.9816,  1.0000]],\n",
      "\n",
      "          ...,\n",
      "\n",
      "          [[-1.0000,  0.9816,  1.0000],\n",
      "           [-0.9889,  0.9816,  1.0000],\n",
      "           [-0.9779,  0.9816,  1.0000],\n",
      "           ...,\n",
      "           [ 0.9779,  0.9816,  1.0000],\n",
      "           [ 0.9889,  0.9816,  1.0000],\n",
      "           [ 1.0000,  0.9816,  1.0000]],\n",
      "\n",
      "          [[-1.0000,  0.9908,  1.0000],\n",
      "           [-0.9889,  0.9908,  1.0000],\n",
      "           [-0.9779,  0.9908,  1.0000],\n",
      "           ...,\n",
      "           [ 0.9779,  0.9908,  1.0000],\n",
      "           [ 0.9890,  0.9908,  1.0000],\n",
      "           [ 1.0000,  0.9908,  1.0000]],\n",
      "\n",
      "          [[-1.0000,  1.0000,  1.0000],\n",
      "           [-0.9890,  1.0000,  1.0000],\n",
      "           [-0.9779,  1.0000,  1.0000],\n",
      "           ...,\n",
      "           [ 0.9779,  1.0000,  1.0000],\n",
      "           [ 0.9890,  1.0000,  1.0000],\n",
      "           [ 1.0000,  1.0000,  1.0000]]]]], device='cuda:0',\n",
      "       grad_fn=<AddBackward0>)\n"
     ]
    }
   ],
   "source": [
    "# compute label map overlap\n",
    "moved_labelmap = reg.evaluate(BatchedImages([label1]), BatchedImages([label2]))>=0.5\n",
    "warp = reg.get_warped_coordinates(BatchedImages([label1]), BatchedImages([label2]))\n",
    "print(warp)\n",
    "# label2_int = Image.load_file(\"/data/rohitrango/brain_data/MGH10/AtlasesCommonLabels/g1.img\")\n",
    "\n",
    "# warp = F.affine_grid(torch.eye(3, 4, device='cuda').unsqueeze(0), label1.array.shape)\n",
    "# moved_labelmap = F.grid_sample(label2_int.array, warp, mode='nearest', align_corners=True)\n",
    "# values, moved_labelmap = torch.max(moved_labelmap, dim=1)\n",
    "# moved_labelmap += 1\n",
    "# moved_labelmap[values < 0.5] = 0\n",
    "# print(moved_labelmap.shape, moved_labelmap.unique(return_counts=False))\n",
    "# print(label1.array.shape, label1.array.unique(return_counts=False))"
   ]
  },
  {
   "cell_type": "code",
   "execution_count": 85,
   "id": "0cf9d543",
   "metadata": {},
   "outputs": [],
   "source": [
    "idx = np.array([ 17,  70,  11,  64,  43,  96,  71,  18,  39,  92,  57,  80, 104,\n",
    "         4,   0,  53,  63, 105,  10,  27,  51,  49,   1,  54,  52, 102,\n",
    "        58,  33,  55,  86,   5,   2,  78,  66,  85,  35,  13,  26,  32,\n",
    "        60,  97,  88,   7,  79,  25,   6,  59,  44,  41,  94,  47,  69,\n",
    "        89,  16,  31,  93,  36,  14,  48,  74,  84,  42,  90,  61,  67,\n",
    "        40,  72,  21,  76,  19,  95,   8, 100,  75])"
   ]
  },
  {
   "cell_type": "code",
   "execution_count": 86,
   "id": "95d7d2ed",
   "metadata": {},
   "outputs": [
    {
     "name": "stdout",
     "output_type": "stream",
     "text": [
      "0.4714159114750721 0.44850095365970055\n",
      "74\n"
     ]
    }
   ],
   "source": [
    "c = label1.array.shape[1]\n",
    "alldice = []\n",
    "alldice_init = []\n",
    "vol_fixed, vol_moved, vol_moving = [], [], []\n",
    "for i in range(c):\n",
    "    if i not in idx:\n",
    "        continue\n",
    "    moving = label2.array[0, i].data.cpu().numpy()\n",
    "    moved = moved_labelmap[0, i].data.cpu().numpy()\n",
    "    # moved = (moved_labelmap[0] == i+1).data.cpu().numpy()\n",
    "    fixed = label1.array[0, i].data.cpu().numpy()\n",
    "    dice = 2 * np.logical_and(moved, fixed).sum() / (moved.sum() + fixed.sum())\n",
    "    dice_init = 2 * np.logical_and(moving, fixed).sum() / (moving.sum() + fixed.sum())\n",
    "    vol_fixed.append(fixed.sum())\n",
    "    vol_moving.append(moving.sum())\n",
    "    vol_moved.append(moved.sum())\n",
    "    #print(f\"Dice score for label {i}: {dice}\")\n",
    "    alldice.append(dice)\n",
    "    alldice_init.append(dice_init)\n",
    "# idx = np.argsort(alldice)[::-1][:74]\n",
    "# alldice = np.array(alldice)[idx]\n",
    "# alldice_init = np.array(alldice_init)[idx]\n",
    "print(np.mean(alldice), np.mean(alldice_init))\n",
    "print(len(alldice))"
   ]
  },
  {
   "cell_type": "code",
   "execution_count": 35,
   "id": "e05b98bb",
   "metadata": {},
   "outputs": [
    {
     "name": "stdout",
     "output_type": "stream",
     "text": [
      "[829.0, 893.0, 1025.0, 1191.0, 1248.0, 1408.0, 1436.0, 1491.0, 1626.0, 1856.0, 1937.0, 1957.0, 2036.0, 2075.0, 2256.0, 2303.0, 2392.0, 2403.0, 2816.0, 2937.0, 2957.0, 3004.0, 3039.0, 3048.0, 3063.0, 3164.0, 3352.0, 3390.0, 3522.0, 3524.0, 3722.0, 3736.0, 3766.0, 3902.0, 3940.0, 3965.0, 3976.0, 4055.0, 4109.0, 4271.0, 4309.0, 4322.0, 4324.0, 4403.0, 4430.0, 4470.0, 4583.0, 4632.0, 4693.0, 4710.0, 4721.0, 4744.0, 4750.0, 5033.0, 5045.0, 5127.0, 5147.0, 5276.0, 5752.0, 6153.0, 6516.0, 6563.0, 7064.0, 7070.0, 7329.0, 7371.0, 7570.0, 7962.0, 8086.0, 8129.0, 8509.0, 8514.0, 8559.0, 8640.0, 8655.0, 8709.0, 8827.0, 8943.0, 9410.0, 9839.0, 10034.0, 10051.0, 10056.0, 10293.0, 10313.0, 10419.0, 10471.0, 11121.0, 11804.0, 12000.0, 12482.0, 13748.0, 14192.0, 14893.0, 15477.0, 20824.0, 21278.0, 21661.0, 22404.0, 22808.0, 29586.0, 31864.0, 68350.0, 70705.0, 125653.0, 135477.0]\n",
      "[500.0, 624.0, 1197.0, 1230.0, 1318.0, 1389.0, 1413.0, 1463.0, 1498.0, 1686.0, 1826.0, 1912.0, 1994.0, 2006.0, 2105.0, 2189.0, 2207.0, 2267.0, 2279.0, 2390.0, 2631.0, 2640.0, 2649.0, 2711.0, 2963.0, 2982.0, 2983.0, 3016.0, 3060.0, 3110.0, 3119.0, 3289.0, 3293.0, 3321.0, 3414.0, 3499.0, 3558.0, 3575.0, 3633.0, 3828.0, 4002.0, 4012.0, 4171.0, 4223.0, 4280.0, 4316.0, 4322.0, 4327.0, 4615.0, 4675.0, 4798.0, 4819.0, 4877.0, 5173.0, 5273.0, 5367.0, 5431.0, 6136.0, 6244.0, 6264.0, 6289.0, 6384.0, 6890.0, 7040.0, 7049.0, 7192.0, 7341.0, 7379.0, 7814.0, 8132.0, 8224.0, 8315.0, 8393.0, 8784.0, 8799.0, 9546.0, 9735.0, 9896.0, 10583.0, 10623.0, 10679.0, 10768.0, 10873.0, 11202.0, 11543.0, 11776.0, 12489.0, 12690.0, 15609.0, 15928.0, 16585.0, 16914.0, 17237.0, 17566.0, 17600.0, 18257.0, 19868.0, 21212.0, 26515.0, 27131.0, 29374.0, 31375.0, 55380.0, 78460.0, 102976.0, 109871.0]\n",
      "[760, 821, 868, 1011, 1125, 1212, 1668, 1734, 1761, 1923, 2026, 2131, 2143, 2305, 2523, 2529, 2552, 2589, 2612, 2632, 2747, 2774, 2887, 2930, 2946, 2958, 3138, 3183, 3192, 3236, 3318, 3366, 3618, 3683, 3707, 3818, 3949, 4002, 4049, 4056, 4086, 4293, 4293, 4300, 4397, 4445, 4477, 4552, 4601, 4671, 4678, 4783, 4872, 5175, 5210, 5485, 5903, 6086, 6196, 6231, 6332, 6340, 6445, 6454, 6515, 6623, 7202, 7205, 7221, 7291, 7474, 7765, 7769, 8058, 10081, 10196, 10206, 10420, 10719, 11022, 11497, 11561, 11719, 12987, 13459, 14475, 14493, 14524, 14825, 14876, 15195, 16158, 16534, 17730, 21301, 22091, 23415, 24890, 25444, 26570, 31623, 31797, 54370, 73766, 107355, 112672]\n"
     ]
    }
   ],
   "source": [
    "print(sorted(vol_fixed))\n",
    "print(sorted(vol_moving))\n",
    "print(sorted(vol_moved))"
   ]
  },
  {
   "cell_type": "code",
   "execution_count": 25,
   "id": "1ac23365",
   "metadata": {},
   "outputs": [
    {
     "data": {
      "text/plain": [
       "<matplotlib.legend.Legend at 0x7fc844d93b50>"
      ]
     },
     "execution_count": 25,
     "metadata": {},
     "output_type": "execute_result"
    },
    {
     "data": {
      "image/png": "[encoded data removed]",
      "text/plain": [
       "<Figure size 1200x600 with 2 Axes>"
      ]
     },
     "metadata": {},
     "output_type": "display_data"
    }
   ],
   "source": [
    "idx = np.argsort(vol_fixed)\n",
    "fig, ax = plt.subplots(1, 2, figsize=(12, 6))\n",
    "ax[0].plot(np.array(alldice)[idx], label=\"Syn\")\n",
    "ax[0].plot(np.array(alldice_init)[idx], label=\"Init\")\n",
    "ax[0].legend()\n",
    "idx = np.argsort(vol_fixed)\n",
    "ax[1].plot(np.array(vol_fixed)[idx], label=\"fixed\")\n",
    "ax[1].plot(np.array(vol_moving)[idx], label=\"moving\")\n",
    "ax[1].plot(np.array(vol_moved)[idx], label=\"moved\")\n",
    "ax[1].set_yscale('log')\n",
    "ax[1].legend()"
   ]
  },
  {
   "cell_type": "code",
   "execution_count": 71,
   "id": "e703a7d4",
   "metadata": {},
   "outputs": [],
   "source": [
    "# browse_image_slices(saved_deformable[-1][0, 0].data.cpu().numpy())\n",
    "# browse_image_slices(saved_deformable[-2][0, 0].data.cpu().numpy())"
   ]
  },
  {
   "cell_type": "code",
   "execution_count": 358,
   "id": "1f706565",
   "metadata": {},
   "outputs": [],
   "source": [
    "# print(img1.array.max(), img1.array.min())\n",
    "# print(saved_deformable[-1].max(), saved_deformable[-1].min())"
   ]
  },
  {
   "cell_type": "code",
   "execution_count": 10,
   "id": "2bd9466a",
   "metadata": {
    "scrolled": false
   },
   "outputs": [
    {
     "data": {
      "application/vnd.jupyter.widget-view+json": {
       "model_id": "b8fadb6dc2394effbfbaf038d8275643",
       "version_major": 2,
       "version_minor": 0
      },
      "text/plain": [
       "interactive(children=(IntSlider(value=91, description='x', layout=Layout(width='600px'), max=181), IntSlider(v…"
      ]
     },
     "metadata": {},
     "output_type": "display_data"
    },
    {
     "data": {
      "application/vnd.jupyter.widget-view+json": {
       "model_id": "3d6982255de44333bfb0597b0e526565",
       "version_major": 2,
       "version_minor": 0
      },
      "text/plain": [
       "interactive(children=(IntSlider(value=91, description='x', layout=Layout(width='600px'), max=181), IntSlider(v…"
      ]
     },
     "metadata": {},
     "output_type": "display_data"
    },
    {
     "data": {
      "application/vnd.jupyter.widget-view+json": {
       "model_id": "1630cfe9ba7444bb8109e84091b0a669",
       "version_major": 2,
       "version_minor": 0
      },
      "text/plain": [
       "interactive(children=(IntSlider(value=91, description='x', layout=Layout(width='600px'), max=181), IntSlider(v…"
      ]
     },
     "metadata": {},
     "output_type": "display_data"
    }
   ],
   "source": [
    "# browse_image_slices(saved_deformable[-1][0, 0].data.cpu().numpy()- moved[-1][0, 0].data.cpu().numpy())\n",
    "browse_image_slices(saved_deformable[-1][0, 0].data.cpu().numpy())\n",
    "browse_image_slices(img1.array[0, 0].data.cpu().numpy())\n",
    "browse_image_slices(img2.array[0, 0].data.cpu().numpy())"
   ]
  },
  {
   "cell_type": "code",
   "execution_count": 11,
   "id": "eab7dc07",
   "metadata": {},
   "outputs": [
    {
     "name": "stdout",
     "output_type": "stream",
     "text": [
      "tensor(0., device='cuda:0') torch.Size([1, 180, 216, 180, 3, 3])\n",
      "0.07706698775291443 0.9945142865180969 6.358409881591797\n",
      "\n",
      "tensor(0., device='cuda:0') torch.Size([1, 180, 216, 180, 3, 3])\n",
      "0.1453348696231842 1.0039892196655273 7.333394527435303\n",
      "\n",
      "Reverse.\n",
      "tensor(0., device='cuda:0') torch.Size([1, 180, 216, 180, 3, 3])\n",
      "0.15046408772468567 0.9988133907318115 5.283421516418457\n",
      "\n",
      "tensor(0., device='cuda:0') torch.Size([1, 180, 216, 180, 3, 3])\n",
      "0.17986851930618286 1.0007390975952148 6.495911121368408\n"
     ]
    }
   ],
   "source": [
    "from cudants.utils.imageutils import jacobian\n",
    "\n",
    "# Print values for forward warp\n",
    "phi = reg.fwd_warp.get_warp() + reg.fwd_warp.grid\n",
    "jac_v = jacobian(phi, normalize=True).permute(0, 2, 3, 4, 1, 5)[:, 1:-1, 1:-1, 1:-1]\n",
    "print((torch.linalg.det(jac_v) < 0).float().mean(), jac_v.shape)\n",
    "print((torch.linalg.det(jac_v)).min().item(), torch.linalg.det(jac_v).mean().item(), torch.linalg.det(jac_v).max().item())\n",
    "print()\n",
    "\n",
    "# Print values for forward inverse warp\n",
    "phi = reg.fwd_warp.get_inverse_warp() + reg.fwd_warp.grid\n",
    "jac_v = jacobian(phi, normalize=True).permute(0, 2, 3, 4, 1, 5)[:, 1:-1, 1:-1, 1:-1]\n",
    "print((torch.linalg.det(jac_v) < 0).float().mean(), jac_v.shape)\n",
    "print((torch.linalg.det(jac_v)).min().item(), torch.linalg.det(jac_v).mean().item(), torch.linalg.det(jac_v).max().item())\n",
    "print()\n",
    "\n",
    "print(\"Reverse.\")\n",
    "\n",
    "# Print values for reverse warp\n",
    "phi = reg.rev_warp.get_warp() + reg.rev_warp.grid\n",
    "jac_v = jacobian(phi, normalize=True).permute(0, 2, 3, 4, 1, 5)[:, 1:-1, 1:-1, 1:-1]\n",
    "print((torch.linalg.det(jac_v) < 0).float().mean(), jac_v.shape)\n",
    "print((torch.linalg.det(jac_v)).min().item(), torch.linalg.det(jac_v).mean().item(), torch.linalg.det(jac_v).max().item())\n",
    "print()\n",
    "\n",
    "\n",
    "phi = reg.rev_warp.get_inverse_warp() + reg.rev_warp.grid\n",
    "jac_v = jacobian(phi, normalize=True).permute(0, 2, 3, 4, 1, 5)[:, 1:-1, 1:-1, 1:-1]\n",
    "print((torch.linalg.det(jac_v) < 0).float().mean(), jac_v.shape)\n",
    "print((torch.linalg.det(jac_v)).min().item(), torch.linalg.det(jac_v).mean().item(), torch.linalg.det(jac_v).max().item())"
   ]
  },
  {
   "cell_type": "code",
   "execution_count": 361,
   "id": "2fca830a",
   "metadata": {},
   "outputs": [],
   "source": [
    "from cudants.utils.util import compose_warp"
   ]
  },
  {
   "cell_type": "code",
   "execution_count": 362,
   "id": "5b16c456",
   "metadata": {},
   "outputs": [
    {
     "name": "stdout",
     "output_type": "stream",
     "text": [
      "0.8672518730163574 0.9998079538345337 1.1405282020568848\n",
      "torch.Size([1, 126, 114, 94, 3, 3])\n",
      "0.9081689715385437 0.9999209046363831 1.141826868057251\n",
      "torch.Size([1, 126, 114, 94, 3, 3])\n"
     ]
    },
    {
     "data": {
      "text/plain": [
       "<matplotlib.legend.Legend at 0x7f9dcc44dc90>"
      ]
     },
     "execution_count": 362,
     "metadata": {},
     "output_type": "execute_result"
    },
    {
     "data": {
      "image/png": "[encoded data removed]",
      "text/plain": [
       "<Figure size 640x480 with 1 Axes>"
      ]
     },
     "metadata": {},
     "output_type": "display_data"
    }
   ],
   "source": [
    "jactest = jacobian(compose_warp(reg.rev_warp.get_inverse_warp(), reg.rev_warp.get_warp(), reg.rev_warp.grid).float() + reg.rev_warp.grid, normalize=True).permute(0, 2, 3, 4, 1, 5)[:, 1:-1, 1:-1, 1:-1]\n",
    "detjactest = torch.linalg.det(jactest)\n",
    "print(detjactest.min().item(), detjactest.mean().item(), detjactest.max().item())\n",
    "print(jactest.shape)\n",
    "\n",
    "_ = plt.hist(detjactest.reshape(-1).detach().cpu().numpy(), bins=100)\n",
    "\n",
    "jactest = jacobian(compose_warp(reg.rev_warp.get_warp(), reg.rev_warp.get_inverse_warp(), reg.rev_warp.grid).float() + reg.rev_warp.grid, normalize=True).permute(0, 2, 3, 4, 1, 5)[:, 1:-1, 1:-1, 1:-1]\n",
    "detjactest = torch.linalg.det(jactest)\n",
    "print(detjactest.min().item(), detjactest.mean().item(), detjactest.max().item())\n",
    "print(jactest.shape)\n",
    "\n",
    "_ = plt.hist(detjactest.reshape(-1).detach().cpu().numpy(), bins=100)\n",
    "plt.legend(['det jac 2', 'det jac'])"
   ]
  },
  {
   "cell_type": "markdown",
   "id": "23bb60de",
   "metadata": {},
   "source": [
    "## Jacobian test"
   ]
  },
  {
   "cell_type": "code",
   "execution_count": 363,
   "id": "b601826a",
   "metadata": {},
   "outputs": [],
   "source": [
    "from cudants.utils.imageutils import scaling_and_squaring\n",
    "from tqdm import tqdm"
   ]
  },
  {
   "cell_type": "code",
   "execution_count": 364,
   "id": "b050f703",
   "metadata": {},
   "outputs": [
    {
     "name": "stdout",
     "output_type": "stream",
     "text": [
      "(0, 2, 3, 4, 1)\n"
     ]
    }
   ],
   "source": [
    "print(reg.fwd_warp.permute_imgtov)\n",
    "\n",
    "def compute_inverse_warp(warp, grid, lr=1e-3, iters=200):\n",
    "    invwarp = nn.Parameter(torch.zeros_like(warp))\n",
    "    optim = torch.optim.SGD([invwarp], lr=lr,) # momentum=0.0)\n",
    "    pbar = tqdm(range(iters))\n",
    "    for i in pbar:\n",
    "        optim.zero_grad()\n",
    "        loss = invwarp + F.grid_sample(warp.permute(*reg.fwd_warp.permute_vtoimg), grid + invwarp, mode='bilinear', align_corners=True).permute(*reg.fwd_warp.permute_imgtov)\n",
    "        loss2 = warp + F.grid_sample(invwarp.permute(*reg.fwd_warp.permute_vtoimg), grid + warp, mode='bilinear', align_corners=True).permute(*reg.fwd_warp.permute_imgtov)\n",
    "        loss = (loss**2).sum() + (loss2**2).sum()\n",
    "        loss.backward()\n",
    "        pbar.set_description(f\"iter: {i}, loss: {loss.item()}\")\n",
    "        optim.step()\n",
    "    return invwarp\n",
    "    \n",
    "def compute_inverse_warp_exp(warp, grid, lr=8e-4, iters=50):\n",
    "    vel = nn.Parameter(torch.zeros_like(warp))\n",
    "    optim = torch.optim.Adam([vel], lr=lr)\n",
    "    pbar = tqdm(range(iters))\n",
    "    for i in pbar:\n",
    "        optim.zero_grad()\n",
    "        invwarp = scaling_and_squaring(vel, grid, n=10)\n",
    "        loss = invwarp + F.grid_sample(warp.permute(*reg.fwd_warp.permute_vtoimg), grid + invwarp, mode='bilinear', align_corners=True).permute(*reg.fwd_warp.permute_imgtov)\n",
    "        loss2 = warp + F.grid_sample(invwarp.permute(*reg.fwd_warp.permute_vtoimg), grid + warp, mode='bilinear', align_corners=True).permute(*reg.fwd_warp.permute_imgtov)\n",
    "        loss = (loss**2).sum() + (loss2**2).sum()\n",
    "        loss.backward()\n",
    "        pbar.set_description(f\"iter: {i}, loss: {loss.item()}\")\n",
    "        optim.step()\n",
    "    return scaling_and_squaring(vel, grid, n=10)"
   ]
  },
  {
   "cell_type": "code",
   "execution_count": 365,
   "id": "412d5ee5",
   "metadata": {},
   "outputs": [
    {
     "name": "stderr",
     "output_type": "stream",
     "text": [
      "iter: 499, loss: 1.683358073234558: 100%|███████████████████████████████████████████████████████████████████████████████████████████████████████████████████████████| 500/500 [00:01<00:00, 344.85it/s]\n"
     ]
    }
   ],
   "source": [
    "# invwarp = compute_inverse_warp_exp(reg.fwd_warp.get_warp().detach(), reg.fwd_warp.grid, lr=5e-3, iters=200)\n",
    "invwarp = compute_inverse_warp(reg.fwd_warp.get_warp().detach(), reg.fwd_warp.grid, lr=1e-2, iters=500)"
   ]
  },
  {
   "cell_type": "code",
   "execution_count": 366,
   "id": "8c4d66a8",
   "metadata": {},
   "outputs": [
    {
     "name": "stdout",
     "output_type": "stream",
     "text": [
      "0.1576448231935501 7.083554744720459\n",
      "torch.Size([1, 126, 114, 94, 3, 3])\n",
      "0.1315915584564209 5.411396026611328\n",
      "torch.Size([1, 126, 114, 94, 3, 3])\n",
      "0.26983267068862915 4.475740432739258\n",
      "torch.Size([1, 126, 114, 94, 3, 3])\n"
     ]
    }
   ],
   "source": [
    "jactest = jacobian(reg.fwd_warp.get_warp() + reg.fwd_warp.grid, normalize=True).permute(0, 2, 3, 4, 1, 5)[:, 1:-1, 1:-1, 1:-1]\n",
    "print(torch.linalg.det(jactest).min().item(), torch.linalg.det(jactest).max().item())\n",
    "print(jactest.shape)\n",
    "\n",
    "jactest = jacobian(invwarp.float() + reg.fwd_warp.grid, normalize=True).permute(0, 2, 3, 4, 1, 5)[:, 1:-1, 1:-1, 1:-1]\n",
    "print(torch.linalg.det(jactest).min().item(), torch.linalg.det(jactest).max().item())\n",
    "print(jactest.shape)\n",
    "\n",
    "jactest = jacobian(reg.rev_warp.get_warp() + reg.rev_warp.grid, normalize=True).permute(0, 2, 3, 4, 1, 5)[:, 1:-1, 1:-1, 1:-1]\n",
    "print(torch.linalg.det(jactest).min().item(), torch.linalg.det(jactest).max().item())\n",
    "print(jactest.shape)"
   ]
  },
  {
   "cell_type": "code",
   "execution_count": 367,
   "id": "e88d3cc0",
   "metadata": {},
   "outputs": [
    {
     "name": "stdout",
     "output_type": "stream",
     "text": [
      "0.5548528432846069 0.9997749924659729 1.3781806230545044\n",
      "torch.Size([1, 126, 114, 94, 3, 3])\n",
      "0.6303814053535461 1.0003564357757568 2.306168556213379\n",
      "torch.Size([1, 126, 114, 94, 3, 3])\n"
     ]
    }
   ],
   "source": [
    "### Test invertibility\n",
    "jactest = jacobian(compose_warp(reg.fwd_warp.get_warp(), invwarp, reg.rev_warp.grid).float() + reg.rev_warp.grid, normalize=True).permute(0, 2, 3, 4, 1, 5)[:, 1:-1, 1:-1, 1:-1]\n",
    "detjactest = torch.linalg.det(jactest)\n",
    "print(detjactest.min().item(), detjactest.mean().item(), detjactest.max().item())\n",
    "print(jactest.shape)\n",
    "\n",
    "jactest = jacobian(compose_warp(invwarp, reg.fwd_warp.get_warp(), reg.rev_warp.grid).float() + reg.rev_warp.grid, normalize=True).permute(0, 2, 3, 4, 1, 5)[:, 1:-1, 1:-1, 1:-1]\n",
    "detjactest = torch.linalg.det(jactest)\n",
    "print(detjactest.min().item(), detjactest.mean().item(), detjactest.max().item())\n",
    "print(jactest.shape)"
   ]
  },
  {
   "cell_type": "code",
   "execution_count": 368,
   "id": "0bc711d4",
   "metadata": {},
   "outputs": [],
   "source": [
    "jactest = jacobian(compose_warp(reg.fwd_warp.get_warp(), invwarp, reg.rev_warp.grid).float() + reg.rev_warp.grid, normalize=True).permute(0, 2, 3, 4, 1, 5)[:, 1:-1, 1:-1, 1:-1]\n",
    "detjactest = torch.linalg.det(jactest)\n",
    "\n",
    "jactest2 = jacobian(compose_warp(invwarp, reg.fwd_warp.get_warp(), reg.rev_warp.grid).float() + reg.rev_warp.grid, normalize=True).permute(0, 2, 3, 4, 1, 5)[:, 1:-1, 1:-1, 1:-1]\n",
    "detjactest2 = torch.linalg.det(jactest2)"
   ]
  },
  {
   "cell_type": "code",
   "execution_count": 369,
   "id": "44e4d39a",
   "metadata": {},
   "outputs": [
    {
     "data": {
      "text/plain": [
       "<matplotlib.legend.Legend at 0x7f9dcc680750>"
      ]
     },
     "execution_count": 369,
     "metadata": {},
     "output_type": "execute_result"
    },
    {
     "data": {
      "image/png": "[encoded data removed]",
      "text/plain": [
       "<Figure size 640x480 with 1 Axes>"
      ]
     },
     "metadata": {},
     "output_type": "display_data"
    }
   ],
   "source": [
    "_ = plt.hist(detjactest2.reshape(-1).detach().cpu().numpy(), bins=100)\n",
    "_ = plt.hist(detjactest.reshape(-1).detach().cpu().numpy(), bins=100)\n",
    "plt.legend(['det jac 2', 'det jac'])"
   ]
  },
  {
   "cell_type": "code",
   "execution_count": 370,
   "id": "f0dadb8d",
   "metadata": {},
   "outputs": [
    {
     "data": {
      "text/plain": [
       "(0.22642571189097976, 5.159822577831332)"
      ]
     },
     "execution_count": 370,
     "metadata": {},
     "output_type": "execute_result"
    }
   ],
   "source": [
    "1/4.416459560394287, 1/0.19380511343479156"
   ]
  },
  {
   "cell_type": "code",
   "execution_count": 371,
   "id": "b0bae8fc",
   "metadata": {},
   "outputs": [
    {
     "name": "stdout",
     "output_type": "stream",
     "text": [
      "-0.14131776988506317 5.019883155822754\n",
      "torch.Size([1, 126, 114, 94, 3, 3])\n",
      "0.20922455191612244 3.623750925064087\n",
      "torch.Size([1, 126, 114, 94, 3, 3])\n"
     ]
    }
   ],
   "source": [
    "## compute jacobian of composition\n",
    "jactest = jacobian(reg.fwd_warp.get_inverse_warp() + reg.fwd_warp.grid, normalize=True).permute(0, 2, 3, 4, 1, 5)[:, 1:-1, 1:-1, 1:-1]\n",
    "print(torch.linalg.det(jactest).min().item(), torch.linalg.det(jactest).max().item())\n",
    "print(jactest.shape)\n",
    "\n",
    "## compute jacobian of composition\n",
    "jactest = jacobian(reg.rev_warp.get_inverse_warp() + reg.rev_warp.grid, normalize=True).permute(0, 2, 3, 4, 1, 5)[:, 1:-1, 1:-1, 1:-1]\n",
    "print(torch.linalg.det(jactest).min().item(), torch.linalg.det(jactest).max().item())\n",
    "print(jactest.shape)"
   ]
  },
  {
   "cell_type": "markdown",
   "id": "1130f065",
   "metadata": {},
   "source": [
    "# Greedy registration"
   ]
  },
  {
   "cell_type": "code",
   "execution_count": 15,
   "id": "75459f0c",
   "metadata": {
    "scrolled": false
   },
   "outputs": [
    {
     "data": {
      "text/plain": [
       "array([[[0., 0., 0., ..., 0., 0., 0.],\n",
       "        [0., 0., 0., ..., 0., 0., 0.],\n",
       "        [0., 0., 0., ..., 0., 0., 0.],\n",
       "        ...,\n",
       "        [0., 0., 0., ..., 0., 0., 0.],\n",
       "        [0., 0., 0., ..., 0., 0., 0.],\n",
       "        [0., 0., 0., ..., 0., 0., 0.]],\n",
       "\n",
       "       [[0., 0., 0., ..., 0., 0., 0.],\n",
       "        [0., 0., 0., ..., 0., 0., 0.],\n",
       "        [0., 0., 0., ..., 0., 0., 0.],\n",
       "        ...,\n",
       "        [0., 0., 0., ..., 0., 0., 0.],\n",
       "        [0., 0., 0., ..., 0., 0., 0.],\n",
       "        [0., 0., 0., ..., 0., 0., 0.]],\n",
       "\n",
       "       [[0., 0., 0., ..., 0., 0., 0.],\n",
       "        [0., 0., 0., ..., 0., 0., 0.],\n",
       "        [0., 0., 0., ..., 0., 0., 0.],\n",
       "        ...,\n",
       "        [0., 0., 0., ..., 0., 0., 0.],\n",
       "        [0., 0., 0., ..., 0., 0., 0.],\n",
       "        [0., 0., 0., ..., 0., 0., 0.]],\n",
       "\n",
       "       ...,\n",
       "\n",
       "       [[0., 0., 0., ..., 0., 0., 0.],\n",
       "        [0., 0., 0., ..., 0., 0., 0.],\n",
       "        [0., 0., 0., ..., 0., 0., 0.],\n",
       "        ...,\n",
       "        [0., 0., 0., ..., 0., 0., 0.],\n",
       "        [0., 0., 0., ..., 0., 0., 0.],\n",
       "        [0., 0., 0., ..., 0., 0., 0.]],\n",
       "\n",
       "       [[0., 0., 0., ..., 0., 0., 0.],\n",
       "        [0., 0., 0., ..., 0., 0., 0.],\n",
       "        [0., 0., 0., ..., 0., 0., 0.],\n",
       "        ...,\n",
       "        [0., 0., 0., ..., 0., 0., 0.],\n",
       "        [0., 0., 0., ..., 0., 0., 0.],\n",
       "        [0., 0., 0., ..., 0., 0., 0.]],\n",
       "\n",
       "       [[0., 0., 0., ..., 0., 0., 0.],\n",
       "        [0., 0., 0., ..., 0., 0., 0.],\n",
       "        [0., 0., 0., ..., 0., 0., 0.],\n",
       "        ...,\n",
       "        [0., 0., 0., ..., 0., 0., 0.],\n",
       "        [0., 0., 0., ..., 0., 0., 0.],\n",
       "        [0., 0., 0., ..., 0., 0., 0.]]], dtype=float32)"
      ]
     },
     "execution_count": 15,
     "metadata": {},
     "output_type": "execute_result"
    }
   ],
   "source": [
    "from cudants.registration.deformation.geodesic import GeodesicShooting\n",
    "from cudants.registration.greedy import GreedyRegistration\n",
    "reg = GreedyRegistration([8, 4, 2, 1], [200, 200, 100, 50], fixed, moving, \n",
    "                        integrator_n=10, init_affine=transform.get_affine_matrix().detach(),\n",
    "#                          optimizer='SGD', optimizer_lr=10, optimizer_params={'momentum': 0.8},\n",
    "#                         optimizer='Adam', optimizer_lr=1e-3, optimizer_params={}, \n",
    "#                          deformation_type='geodesic',\n",
    "#                          optimizer_params={'multiply_jacobian': False, 'scaledown': False},\n",
    "                         deformation_type='compositive', optimizer_lr=0.5, optimizer='Adam',\n",
    "                         cc_kernel_size = 5,\n",
    "                         smooth_grad_sigma=1, smooth_warp_sigma=0.1)\n",
    "saved_deformable = reg.optimize(save_transformed=True)"
   ]
  },
  {
   "cell_type": "code",
   "execution_count": 373,
   "id": "793b4d34",
   "metadata": {},
   "outputs": [
    {
     "data": {
      "text/plain": [
       "tensor(-0.4840, device='cuda:0')"
      ]
     },
     "execution_count": 373,
     "metadata": {},
     "output_type": "execute_result"
    }
   ],
   "source": [
    "reg.loss_fn(saved_deformable[-1].cuda(), img1.array.cuda()) / np.prod(img1.array.shape)"
   ]
  },
  {
   "cell_type": "code",
   "execution_count": 374,
   "id": "74f2f5f5",
   "metadata": {
    "scrolled": false
   },
   "outputs": [
    {
     "data": {
      "application/vnd.jupyter.widget-view+json": {
       "model_id": "d385c5262a9544138b0d491aee712c0d",
       "version_major": 2,
       "version_minor": 0
      },
      "text/plain": [
       "interactive(children=(IntSlider(value=64, description='x', layout=Layout(width='600px'), max=127), IntSlider(v…"
      ]
     },
     "metadata": {},
     "output_type": "display_data"
    },
    {
     "data": {
      "application/vnd.jupyter.widget-view+json": {
       "model_id": "fdd5baf8e6b04b97b19f3a2b289dd55a",
       "version_major": 2,
       "version_minor": 0
      },
      "text/plain": [
       "interactive(children=(IntSlider(value=64, description='x', layout=Layout(width='600px'), max=127), IntSlider(v…"
      ]
     },
     "metadata": {},
     "output_type": "display_data"
    },
    {
     "data": {
      "application/vnd.jupyter.widget-view+json": {
       "model_id": "ec3667b45a6447c4b7fe30b76d7fd06a",
       "version_major": 2,
       "version_minor": 0
      },
      "text/plain": [
       "interactive(children=(IntSlider(value=64, description='x', layout=Layout(width='600px'), max=127), IntSlider(v…"
      ]
     },
     "metadata": {},
     "output_type": "display_data"
    }
   ],
   "source": [
    "# browse_image_slices(saved_deformable[-1][0, 0].data.cpu().numpy()- moved[-1][0, 0].data.cpu().numpy())\n",
    "browse_image_slices(saved_deformable[-1][0, 0].data.cpu().numpy())\n",
    "browse_image_slices(img1.array[0, 0].data.cpu().numpy())\n",
    "browse_image_slices(img2.array[0, 0].data.cpu().numpy())"
   ]
  },
  {
   "cell_type": "code",
   "execution_count": 476,
   "id": "d94ba46b",
   "metadata": {},
   "outputs": [],
   "source": [
    "from cudants.utils.imageutils import jacobian\n",
    "phi = reg.warp.get_warp() + reg.warp.grid\n",
    "jac_v = jacobian(phi, normalize=True).permute(0, 2, 3, 4, 1, 5)[:, 1:-1, 1:-1, 1:-1]"
   ]
  },
  {
   "cell_type": "code",
   "execution_count": 477,
   "id": "d095579c",
   "metadata": {},
   "outputs": [
    {
     "name": "stdout",
     "output_type": "stream",
     "text": [
      "torch.Size([1, 126, 114, 94, 3, 3])\n",
      "0.008264744654297829 0.9899278879165649 12.22044563293457\n"
     ]
    }
   ],
   "source": [
    "print(jac_v.shape)\n",
    "detv = torch.linalg.det(jac_v)\n",
    "# print(detv.shape)\n",
    "print(detv.min().item(), detv.mean().item(), detv.max().item())"
   ]
  },
  {
   "cell_type": "code",
   "execution_count": 478,
   "id": "72b3ffce",
   "metadata": {},
   "outputs": [
    {
     "name": "stdout",
     "output_type": "stream",
     "text": [
      "tensor(0., device='cuda:0')\n"
     ]
    }
   ],
   "source": [
    "print((torch.linalg.det(jac_v) < 0).float().mean())"
   ]
  },
  {
   "cell_type": "markdown",
   "id": "12a76793",
   "metadata": {},
   "source": [
    "# Log demons"
   ]
  },
  {
   "cell_type": "code",
   "execution_count": null,
   "id": "d50e1f95",
   "metadata": {
    "scrolled": false
   },
   "outputs": [],
   "source": [
    "from cudants.registration.logdemons import LogDemonsRegistration\n",
    "reg = LogDemonsRegistration([4, 2, 1], [50, 50, 50], fixed, moving, \n",
    "# reg = LogDemonsRegistration([1], [50], fixed, moving,\n",
    "                eps_prime=0.25, init_affine=transform.get_affine_matrix().detach(),  \n",
    "                optical_flow_method='gauss-newton', update_sigma=0.1,\n",
    "                                optical_flow_sigma=0.1, use_lie_bracket=False, symmetric=False)\n",
    "saved_deformable = reg.optimize(save_transformed=True)"
   ]
  },
  {
   "cell_type": "code",
   "execution_count": null,
   "id": "9d8efacc",
   "metadata": {
    "scrolled": true
   },
   "outputs": [],
   "source": [
    "browse_image_slices(saved_deformable[-1][0, 0].data.cpu().numpy()- moved[-1][0, 0].data.cpu().numpy())\n",
    "browse_image_slices(saved_deformable[-1][0, 0].data.cpu().numpy())\n",
    "browse_image_slices(img1.array[0, 0].data.cpu().numpy())\n",
    "browse_image_slices(img2.array[0, 0].data.cpu().numpy())\n",
    "# browse_image_slices(moved[-1][0, 0].data.cpu().numpy())"
   ]
  },
  {
   "cell_type": "code",
   "execution_count": null,
   "id": "e34d4c48",
   "metadata": {
    "scrolled": true
   },
   "outputs": [],
   "source": [
    "# browse_image_slices(saved_deformable[-1][0, 0].data.cpu().numpy()- moved[-1][0, 0].data.cpu().numpy())\n",
    "# browse_image_slices(saved_deformable[-1][0, 0].data.cpu().numpy())\n",
    "# browse_image_slices(img1.array[0, 0].data.cpu().numpy())\n",
    "# browse_image_slices(img2.array[0, 0].data.cpu().numpy())\n",
    "# browse_image_slices(moved[-1][0, 0].data.cpu().numpy())"
   ]
  },
  {
   "cell_type": "code",
   "execution_count": null,
   "id": "0d842a9f",
   "metadata": {
    "scrolled": true
   },
   "outputs": [],
   "source": []
  },
  {
   "cell_type": "markdown",
   "id": "86fb7027",
   "metadata": {},
   "source": [
    "## Check Optical Flow"
   ]
  },
  {
   "cell_type": "code",
   "execution_count": null,
   "id": "56cda4c5",
   "metadata": {
    "scrolled": false
   },
   "outputs": [],
   "source": [
    "browse_image_slices(reg.velocity_fields[-1][0].data.cpu().numpy() - reg.velocity_fields[-1].min().item())"
   ]
  },
  {
   "cell_type": "code",
   "execution_count": null,
   "id": "a1084c3b",
   "metadata": {
    "scrolled": true
   },
   "outputs": [],
   "source": []
  }
 ],
 "metadata": {
  "kernelspec": {
   "display_name": "Python 3 (ipykernel)",
   "language": "python",
   "name": "python3"
  },
  "language_info": {
   "codemirror_mode": {
    "name": "ipython",
    "version": 3
   },
   "file_extension": ".py",
   "mimetype": "text/x-python",
   "name": "python",
   "nbconvert_exporter": "python",
   "pygments_lexer": "ipython3",
   "version": "3.7.16"
  }
 },
 "nbformat": 4,
 "nbformat_minor": 5
}
