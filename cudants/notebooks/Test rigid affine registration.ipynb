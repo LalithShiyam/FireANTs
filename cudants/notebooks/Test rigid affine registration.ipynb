{
 "cells": [
  {
   "cell_type": "code",
   "execution_count": 1,
   "id": "6ad1e82f",
   "metadata": {
    "scrolled": true
   },
   "outputs": [],
   "source": [
    "%reload_ext autoreload\n",
    "%autoreload 2\n",
    "from cudants.io.image import Image, BatchedImages\n",
    "from cudants.registration.rigid import RigidRegistration\n",
    "from cudants.registration.affine import AffineRegistration\n",
    "import torch\n",
    "from torch.optim import SGD, Adam\n",
    "from torch.nn import functional as F\n",
    "from torch import nn"
   ]
  },
  {
   "cell_type": "code",
   "execution_count": 2,
   "id": "e20d323e",
   "metadata": {
    "scrolled": true
   },
   "outputs": [],
   "source": [
    "# img1 = Image.load_file('/data/BRATS2021/training/BraTS2021_00598/BraTS2021_00598_t1.nii.gz')\n",
    "# img2 = Image.load_file('/data/BRATS2021/training/BraTS2021_00597/BraTS2021_00597_t1.nii.gz')\n",
    "img1 = Image.load_file('/data/BRATS2021/training/BraTS2021_00262/BraTS2021_00262_t1.nii.gz')\n",
    "img2 = Image.load_file('/data/BRATS2021/training/BraTS2021_00403/BraTS2021_00403_t1.nii.gz')\n",
    "\n",
    "# img1 = Image.load_file(\"images/atlas_2mm_1000_3.nii.gz\")\n",
    "# img2 = Image.load_file(\"images/atlas_2mm_1001_3.nii.gz\")"
   ]
  },
  {
   "cell_type": "code",
   "execution_count": 3,
   "id": "657ba70c",
   "metadata": {
    "scrolled": true
   },
   "outputs": [],
   "source": [
    "%matplotlib inline\n",
    "import numpy as np\n",
    "import matplotlib.pyplot as plt\n",
    "from ipywidgets import interact, interactive, IntSlider, Layout\n",
    "\n",
    "def browse_image_slices(image_3d):\n",
    "    # Infer the dimensions of image\n",
    "    if len(image_3d.shape) == 3:\n",
    "        dim_x, dim_y, dim_z = image_3d.shape\n",
    "        color = False\n",
    "    else:\n",
    "        dim_x, dim_y, dim_z = image_3d.shape[:-1]\n",
    "        color = True\n",
    "    # Define a function to visualize the slices\n",
    "    def plot_slice(x, y, z):\n",
    "        fig, ax = plt.subplots(1, 3, figsize=(15, 5))\n",
    "\n",
    "        ax[0].imshow(image_3d[x, :, :], cmap='gray' if not color else None)\n",
    "        ax[0].set_title('Slice at X = %d' % x)\n",
    "\n",
    "        ax[1].imshow(image_3d[:, y, :], cmap='gray' if not color else None)\n",
    "        ax[1].set_title('Slice at Y = %d' % y)\n",
    "\n",
    "        ax[2].imshow(image_3d[:, :, z], cmap='gray' if not color else None)\n",
    "        ax[2].set_title('Slice at Z = %d' % z)\n",
    "\n",
    "        plt.show()\n",
    "\n",
    "    # Use interact to create the UI with sliders\n",
    "    interact(plot_slice,\n",
    "             x=IntSlider(min=0, max=dim_x-1, value=dim_x//2, layout=Layout(width='600px')),\n",
    "             y=IntSlider(min=0, max=dim_y-1, value=dim_y//2, layout=Layout(width='600px')),\n",
    "             z=IntSlider(min=0, max=dim_z-1, value=dim_z//2, layout=Layout(width='600px')))"
   ]
  },
  {
   "cell_type": "code",
   "execution_count": 4,
   "id": "16125c47",
   "metadata": {
    "scrolled": true
   },
   "outputs": [
    {
     "data": {
      "application/vnd.jupyter.widget-view+json": {
       "model_id": "3fedc408ad9c4cc587b678ccb8f175a0",
       "version_major": 2,
       "version_minor": 0
      },
      "text/plain": [
       "interactive(children=(IntSlider(value=77, description='x', layout=Layout(width='600px'), max=154), IntSlider(v…"
      ]
     },
     "metadata": {},
     "output_type": "display_data"
    }
   ],
   "source": [
    "# Test the function\n",
    "browse_image_slices(img1.array[0, 0].data.cpu().numpy())"
   ]
  },
  {
   "cell_type": "code",
   "execution_count": 5,
   "id": "c3b83608",
   "metadata": {
    "scrolled": true
   },
   "outputs": [
    {
     "data": {
      "application/vnd.jupyter.widget-view+json": {
       "model_id": "2ffd6fdc647349fcbbd4d993b0dccfbd",
       "version_major": 2,
       "version_minor": 0
      },
      "text/plain": [
       "interactive(children=(IntSlider(value=77, description='x', layout=Layout(width='600px'), max=154), IntSlider(v…"
      ]
     },
     "metadata": {},
     "output_type": "display_data"
    }
   ],
   "source": [
    "# Test the function\n",
    "browse_image_slices(img2.array[0, 0].data.cpu().numpy())"
   ]
  },
  {
   "cell_type": "code",
   "execution_count": 6,
   "id": "8bb4f09a",
   "metadata": {
    "scrolled": true
   },
   "outputs": [
    {
     "name": "stderr",
     "output_type": "stream",
     "text": [
      "/home/rohitrango/code/CUDANTs/cudants/utils/imageutils.py:77: UserWarning: operator() sees varying value in profiling, ignoring and this should be handled by GUARD logic (Triggered internally at ../torch/csrc/jit/codegen/cuda/parser.cpp:3668.)\n",
      "  image_smooth = separable_filtering(image, gaussians)\n",
      "/home/rohitrango/code/CUDANTs/cudants/registration/affine.py:76: UserWarning: operator() profile_node %70 : int[] = prim::profile_ivalue[profile_failed=\"varying profile values\"](%s.1)\n",
      " does not have profile information (Triggered internally at ../torch/csrc/jit/codegen/cuda/graph_fuser.cpp:105.)\n",
      "  moving_image_blur = separable_filtering(moving_arrays, gaussians)\n",
      "scale: 8, iter: 199/200, loss: -0.274762: 100%|███████████████████████████████████████████████████████████████████████████████████████████| 200/200 [00:00<00:00, 325.41it/s]\n",
      "scale: 4, iter: 99/100, loss: -0.179983: 100%|████████████████████████████████████████████████████████████████████████████████████████████| 100/100 [00:00<00:00, 279.73it/s]\n",
      "scale: 2, iter: 49/50, loss: -0.100669: 100%|███████████████████████████████████████████████████████████████████████████████████████████████| 50/50 [00:00<00:00, 153.01it/s]\n",
      "scale: 1, iter: 19/20, loss: -0.042983: 100%|████████████████████████████████████████████████████████████████████████████████████████████████| 20/20 [00:00<00:00, 24.84it/s]\n"
     ]
    }
   ],
   "source": [
    "from cudants.registration.affine import AffineRegistration\n",
    "fixed = BatchedImages([img1,])\n",
    "moving = BatchedImages([img2,])\n",
    "# transform = AffineRegistration([8, 4, 2, 1], [1000, 500, 250, 100], fixed, moving, \\\n",
    "transform = AffineRegistration([8, 4, 2, 1], [200, 100, 50, 20], fixed, moving, \\\n",
    "    loss_type='cc', optimizer='Adam', optimizer_lr=3e-4, optimizer_momentum=0.9)\n",
    "moved = transform.optimize(save_transformed=True)"
   ]
  },
  {
   "cell_type": "code",
   "execution_count": 7,
   "id": "3ea94413",
   "metadata": {
    "scrolled": true
   },
   "outputs": [
    {
     "data": {
      "application/vnd.jupyter.widget-view+json": {
       "model_id": "d937d94f79204b6d9eed8ba53fbfe37e",
       "version_major": 2,
       "version_minor": 0
      },
      "text/plain": [
       "interactive(children=(IntSlider(value=77, description='x', layout=Layout(width='600px'), max=154), IntSlider(v…"
      ]
     },
     "metadata": {},
     "output_type": "display_data"
    },
    {
     "data": {
      "application/vnd.jupyter.widget-view+json": {
       "model_id": "221b07f2041c42d1a338f25517aaf2e9",
       "version_major": 2,
       "version_minor": 0
      },
      "text/plain": [
       "interactive(children=(IntSlider(value=77, description='x', layout=Layout(width='600px'), max=154), IntSlider(v…"
      ]
     },
     "metadata": {},
     "output_type": "display_data"
    },
    {
     "data": {
      "application/vnd.jupyter.widget-view+json": {
       "model_id": "d3fd92d62cad4f8682ce5ae17753f8c0",
       "version_major": 2,
       "version_minor": 0
      },
      "text/plain": [
       "interactive(children=(IntSlider(value=77, description='x', layout=Layout(width='600px'), max=154), IntSlider(v…"
      ]
     },
     "metadata": {},
     "output_type": "display_data"
    }
   ],
   "source": [
    "browse_image_slices(moved[-1][0, 0].data.cpu().numpy() - img1.array[0, 0].data.cpu().numpy())\n",
    "browse_image_slices(moved[-1][0, 0].data.cpu().numpy())\n",
    "browse_image_slices(img1.array[0, 0].data.cpu().numpy())"
   ]
  },
  {
   "cell_type": "code",
   "execution_count": 8,
   "id": "66399136",
   "metadata": {
    "scrolled": true
   },
   "outputs": [
    {
     "data": {
      "application/vnd.jupyter.widget-view+json": {
       "model_id": "68a24a9c6e574ad19b88189f0431629c",
       "version_major": 2,
       "version_minor": 0
      },
      "text/plain": [
       "interactive(children=(IntSlider(value=77, description='x', layout=Layout(width='600px'), max=154), IntSlider(v…"
      ]
     },
     "metadata": {},
     "output_type": "display_data"
    }
   ],
   "source": [
    "browse_image_slices(moved[-1][0, 0].data.cpu().numpy() - img2.array[0, 0].data.cpu().numpy())"
   ]
  },
  {
   "cell_type": "code",
   "execution_count": 25,
   "id": "d50e1f95",
   "metadata": {
    "scrolled": true
   },
   "outputs": [
    {
     "name": "stderr",
     "output_type": "stream",
     "text": [
      "scale: 4, iter: 49/50, loss: 277.165894: 100%|██████████████████████████████████████████████████████████████████████████████████████████████| 50/50 [00:00<00:00, 477.75it/s]\n",
      "scale: 2, iter: 49/50, loss: 223.825378: 100%|██████████████████████████████████████████████████████████████████████████████████████████████| 50/50 [00:00<00:00, 292.26it/s]\n",
      "scale: 1, iter: 49/50, loss: 218.361786: 100%|███████████████████████████████████████████████████████████████████████████████████████████████| 50/50 [00:01<00:00, 45.09it/s]\n"
     ]
    }
   ],
   "source": [
    "from cudants.registration.logdemons import LogDemonsRegistration\n",
    "reg = LogDemonsRegistration([4, 2, 1], [50, 50, 50], fixed, moving, \n",
    "# reg = LogDemonsRegistration([1], [100], fixed, moving,\n",
    "                eps_prime=0.5, init_affine=transform.get_affine_matrix(),  \n",
    "                optical_flow_method='gauss-newton', update_sigma=0.25,\n",
    "                                optical_flow_sigma=0.5, use_lie_bracket=False)\n",
    "saved_deformable = reg.optimize(save_transformed=True)"
   ]
  },
  {
   "cell_type": "code",
   "execution_count": 26,
   "id": "e1383b19",
   "metadata": {
    "scrolled": false
   },
   "outputs": [
    {
     "data": {
      "text/plain": [
       "tensor([[[ 1.0263,  0.0218, -0.0113, -0.0222],\n",
       "         [-0.0560,  0.9364,  0.0116, -0.0421],\n",
       "         [ 0.0218, -0.0467,  0.9354,  0.0076],\n",
       "         [ 0.0000,  0.0000,  0.0000,  1.0000]]], device='cuda:0')"
      ]
     },
     "execution_count": 26,
     "metadata": {},
     "output_type": "execute_result"
    }
   ],
   "source": [
    "transform.get_affine_matrix()"
   ]
  },
  {
   "cell_type": "code",
   "execution_count": 27,
   "id": "e34d4c48",
   "metadata": {
    "scrolled": false
   },
   "outputs": [
    {
     "data": {
      "application/vnd.jupyter.widget-view+json": {
       "model_id": "56683dea0f284e83a74cc594988cc397",
       "version_major": 2,
       "version_minor": 0
      },
      "text/plain": [
       "interactive(children=(IntSlider(value=77, description='x', layout=Layout(width='600px'), max=154), IntSlider(v…"
      ]
     },
     "metadata": {},
     "output_type": "display_data"
    },
    {
     "data": {
      "application/vnd.jupyter.widget-view+json": {
       "model_id": "4b825cf476314228bd065120e5e55f0f",
       "version_major": 2,
       "version_minor": 0
      },
      "text/plain": [
       "interactive(children=(IntSlider(value=77, description='x', layout=Layout(width='600px'), max=154), IntSlider(v…"
      ]
     },
     "metadata": {},
     "output_type": "display_data"
    },
    {
     "data": {
      "application/vnd.jupyter.widget-view+json": {
       "model_id": "44c92d1ec0414779bfc386901b04f300",
       "version_major": 2,
       "version_minor": 0
      },
      "text/plain": [
       "interactive(children=(IntSlider(value=77, description='x', layout=Layout(width='600px'), max=154), IntSlider(v…"
      ]
     },
     "metadata": {},
     "output_type": "display_data"
    }
   ],
   "source": [
    "# browse_image_slices(saved_deformable[-1][0, 0].data.cpu().numpy()- moved[-1][0, 0].data.cpu().numpy())\n",
    "browse_image_slices(saved_deformable[-1][0, 0].data.cpu().numpy())\n",
    "browse_image_slices(img1.array[0, 0].data.cpu().numpy())\n",
    "browse_image_slices(img2.array[0, 0].data.cpu().numpy())\n",
    "# browse_image_slices(moved[-1][0, 0].data.cpu().numpy())"
   ]
  },
  {
   "cell_type": "markdown",
   "id": "86fb7027",
   "metadata": {},
   "source": [
    "## Check Optical Flow"
   ]
  },
  {
   "cell_type": "code",
   "execution_count": 12,
   "id": "57dea25c",
   "metadata": {
    "scrolled": true
   },
   "outputs": [],
   "source": [
    "from cudants.utils.opticalflow import OpticalFlow"
   ]
  },
  {
   "cell_type": "code",
   "execution_count": 13,
   "id": "81153140",
   "metadata": {
    "scrolled": true
   },
   "outputs": [],
   "source": [
    "of = OpticalFlow(sigma=0.5)"
   ]
  },
  {
   "cell_type": "code",
   "execution_count": 14,
   "id": "dc08ef0a",
   "metadata": {
    "scrolled": true
   },
   "outputs": [],
   "source": [
    "velfield = of(fixed(), moving())"
   ]
  },
  {
   "cell_type": "code",
   "execution_count": 15,
   "id": "5c8fc40a",
   "metadata": {
    "scrolled": false
   },
   "outputs": [
    {
     "data": {
      "text/plain": [
       "'gauss-newton'"
      ]
     },
     "execution_count": 15,
     "metadata": {},
     "output_type": "execute_result"
    }
   ],
   "source": [
    "of._method_name"
   ]
  },
  {
   "cell_type": "code",
   "execution_count": 16,
   "id": "6334e794",
   "metadata": {
    "scrolled": true
   },
   "outputs": [
    {
     "data": {
      "application/vnd.jupyter.widget-view+json": {
       "model_id": "35e7a86ee92d4c989459a3e6b2cc8df8",
       "version_major": 2,
       "version_minor": 0
      },
      "text/plain": [
       "interactive(children=(IntSlider(value=77, description='x', layout=Layout(width='600px'), max=154), IntSlider(v…"
      ]
     },
     "metadata": {},
     "output_type": "display_data"
    }
   ],
   "source": [
    "browse_image_slices(velfield[0].permute(1, 2, 3, 0).data.cpu().numpy() - 1*velfield.min().data.cpu().numpy())"
   ]
  },
  {
   "cell_type": "code",
   "execution_count": 17,
   "id": "68d3ca40",
   "metadata": {
    "scrolled": false
   },
   "outputs": [
    {
     "data": {
      "text/plain": [
       "(tensor(0.4760, device='cuda:0'), tensor(-0.4740, device='cuda:0'))"
      ]
     },
     "execution_count": 17,
     "metadata": {},
     "output_type": "execute_result"
    }
   ],
   "source": [
    "velfield.max(), velfield.min()"
   ]
  },
  {
   "cell_type": "code",
   "execution_count": 18,
   "id": "24437142",
   "metadata": {
    "scrolled": true
   },
   "outputs": [],
   "source": [
    "from cudants.utils.imageutils import image_gradient"
   ]
  },
  {
   "cell_type": "code",
   "execution_count": 19,
   "id": "54926715",
   "metadata": {
    "scrolled": true
   },
   "outputs": [
    {
     "data": {
      "text/plain": [
       "torch.Size([1, 1, 155, 240, 240])"
      ]
     },
     "execution_count": 19,
     "metadata": {},
     "output_type": "execute_result"
    }
   ],
   "source": [
    "fixed().shape"
   ]
  },
  {
   "cell_type": "code",
   "execution_count": 20,
   "id": "549efabc",
   "metadata": {
    "scrolled": true
   },
   "outputs": [
    {
     "name": "stdout",
     "output_type": "stream",
     "text": [
      "tensor(-365.5000, device='cuda:0') tensor(377., device='cuda:0')\n"
     ]
    }
   ],
   "source": [
    "img = fixed()\n",
    "grad = image_gradient(img)\n",
    "print(grad.min(), grad.max())"
   ]
  },
  {
   "cell_type": "code",
   "execution_count": 21,
   "id": "dfce4df4",
   "metadata": {
    "scrolled": false
   },
   "outputs": [
    {
     "data": {
      "text/plain": [
       "(tensor([-365.5000, -365.5000, -365.5000], device='cuda:0'),\n",
       " tensor([377., 377., 377.], device='cuda:0'))"
      ]
     },
     "execution_count": 21,
     "metadata": {},
     "output_type": "execute_result"
    }
   ],
   "source": [
    "grad[0].flatten(1).min(1).values, grad[0].flatten(1).max(1).values"
   ]
  },
  {
   "cell_type": "code",
   "execution_count": 22,
   "id": "e9c10901",
   "metadata": {
    "scrolled": false
   },
   "outputs": [
    {
     "data": {
      "application/vnd.jupyter.widget-view+json": {
       "model_id": "33d56b96fcc64e858415db0a7061a71a",
       "version_major": 2,
       "version_minor": 0
      },
      "text/plain": [
       "interactive(children=(IntSlider(value=77, description='x', layout=Layout(width='600px'), max=154), IntSlider(v…"
      ]
     },
     "metadata": {},
     "output_type": "display_data"
    }
   ],
   "source": [
    "browse_image_slices(grad[0, 2].data.cpu().numpy())"
   ]
  },
  {
   "cell_type": "code",
   "execution_count": 23,
   "id": "b12c90f7",
   "metadata": {
    "scrolled": true
   },
   "outputs": [],
   "source": [
    "from cudants.losses.cc import gaussian_1d, separable_filtering\n",
    "kernel = gaussian_1d(torch.tensor(2, device=fixed.device))"
   ]
  },
  {
   "cell_type": "code",
   "execution_count": 24,
   "id": "e5f9dc03",
   "metadata": {
    "scrolled": true
   },
   "outputs": [],
   "source": [
    "blurred = separable_filtering(fixed(), kernel)"
   ]
  },
  {
   "cell_type": "code",
   "execution_count": null,
   "id": "ec8d1865",
   "metadata": {
    "scrolled": true
   },
   "outputs": [],
   "source": [
    "browse_image_slices(blurred[0, 0].data.cpu().numpy())\n",
    "browse_image_slices(fixed()[0, 0].data.cpu().numpy())"
   ]
  },
  {
   "cell_type": "code",
   "execution_count": null,
   "id": "56cda4c5",
   "metadata": {
    "scrolled": true
   },
   "outputs": [],
   "source": []
  }
 ],
 "metadata": {
  "kernelspec": {
   "display_name": "Python 3 (ipykernel)",
   "language": "python",
   "name": "python3"
  },
  "language_info": {
   "codemirror_mode": {
    "name": "ipython",
    "version": 3
   },
   "file_extension": ".py",
   "mimetype": "text/x-python",
   "name": "python",
   "nbconvert_exporter": "python",
   "pygments_lexer": "ipython3",
   "version": "3.7.16"
  }
 },
 "nbformat": 4,
 "nbformat_minor": 5
}
