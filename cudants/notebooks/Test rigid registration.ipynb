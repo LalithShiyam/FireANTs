{
 "cells": [
  {
   "cell_type": "code",
   "execution_count": 1,
   "id": "6ad1e82f",
   "metadata": {},
   "outputs": [],
   "source": [
    "%reload_ext autoreload\n",
    "%autoreload 2\n",
    "from cudants.io.image import Image, BatchedImages\n",
    "from cudants.registration.rigid import RigidRegistration\n",
    "from cudants.registration.affine import AffineRegistration\n",
    "import torch\n",
    "from torch.optim import SGD, Adam\n",
    "from torch.nn import functional as F\n",
    "from torch import nn"
   ]
  },
  {
   "cell_type": "code",
   "execution_count": 3,
   "id": "e20d323e",
   "metadata": {},
   "outputs": [],
   "source": [
    "img1 = Image.load_file('/data/BRATS2021/training/BraTS2021_00598/BraTS2021_00598_t1.nii.gz')\n",
    "img2 = Image.load_file('/data/BRATS2021/training/BraTS2021_00599/BraTS2021_00599_t1.nii.gz')"
   ]
  },
  {
   "cell_type": "code",
   "execution_count": 4,
   "id": "657ba70c",
   "metadata": {},
   "outputs": [],
   "source": [
    "%matplotlib inline\n",
    "import numpy as np\n",
    "import matplotlib.pyplot as plt\n",
    "from ipywidgets import interact, interactive, IntSlider, Layout\n",
    "\n",
    "def browse_image_slices(image_3d):\n",
    "    # Infer the dimensions of image\n",
    "    dim_x, dim_y, dim_z = image_3d.shape\n",
    "    \n",
    "    # Define a function to visualize the slices\n",
    "    def plot_slice(x, y, z):\n",
    "        fig, ax = plt.subplots(1, 3, figsize=(15, 5))\n",
    "\n",
    "        ax[0].imshow(image_3d[x, :, :], cmap='gray')\n",
    "        ax[0].set_title('Slice at X = %d' % x)\n",
    "\n",
    "        ax[1].imshow(image_3d[:, y, :], cmap='gray')\n",
    "        ax[1].set_title('Slice at Y = %d' % y)\n",
    "\n",
    "        ax[2].imshow(image_3d[:, :, z], cmap='gray')\n",
    "        ax[2].set_title('Slice at Z = %d' % z)\n",
    "\n",
    "        plt.show()\n",
    "\n",
    "    # Use interact to create the UI with sliders\n",
    "    interact(plot_slice,\n",
    "             x=IntSlider(min=0, max=dim_x-1, value=dim_x//2, layout=Layout(width='600px')),\n",
    "             y=IntSlider(min=0, max=dim_y-1, value=dim_y//2, layout=Layout(width='600px')),\n",
    "             z=IntSlider(min=0, max=dim_z-1, value=dim_z//2, layout=Layout(width='600px')))"
   ]
  },
  {
   "cell_type": "code",
   "execution_count": 5,
   "id": "16125c47",
   "metadata": {},
   "outputs": [
    {
     "data": {
      "application/vnd.jupyter.widget-view+json": {
       "model_id": "13b610d747634cf2979c07b24e4bd540",
       "version_major": 2,
       "version_minor": 0
      },
      "text/plain": [
       "interactive(children=(IntSlider(value=77, description='x', layout=Layout(width='600px'), max=154), IntSlider(v…"
      ]
     },
     "metadata": {},
     "output_type": "display_data"
    }
   ],
   "source": [
    "# Test the function\n",
    "browse_image_slices(img1.array[0, 0].data.cpu().numpy())"
   ]
  },
  {
   "cell_type": "code",
   "execution_count": 6,
   "id": "c3b83608",
   "metadata": {},
   "outputs": [
    {
     "data": {
      "application/vnd.jupyter.widget-view+json": {
       "model_id": "c10d1c96a2dc4c689fe53c8684e9c586",
       "version_major": 2,
       "version_minor": 0
      },
      "text/plain": [
       "interactive(children=(IntSlider(value=77, description='x', layout=Layout(width='600px'), max=154), IntSlider(v…"
      ]
     },
     "metadata": {},
     "output_type": "display_data"
    }
   ],
   "source": [
    "# Test the function\n",
    "browse_image_slices(img2.array[0, 0].data.cpu().numpy())"
   ]
  },
  {
   "cell_type": "code",
   "execution_count": 65,
   "id": "98dfeb49",
   "metadata": {},
   "outputs": [
    {
     "name": "stderr",
     "output_type": "stream",
     "text": [
      "scale: 8, iter: 999/1000, loss: -0.099450: 100%|███████████████████████████████████████████████████████████████████████████████████████████| 1000/1000 [00:02<00:00, 333.52it/s]\n",
      "scale: 4, iter: 288/500, loss: -0.051869:  58%|██████████████████████████████████████████████████████▎                                       | 289/500 [00:00<00:00, 339.14it/s]\n",
      "scale: 2, iter: 104/250, loss: -0.048560:  42%|███████████████████████████████████████▍                                                      | 105/250 [00:00<00:00, 155.22it/s]\n",
      "scale: 1, iter: 92/100, loss: -0.046981:  93%|██████████████████████████████████████████████████████████████████████████████████████████▏      | 93/100 [00:03<00:00, 24.46it/s]\n"
     ]
    }
   ],
   "source": [
    "fixed = BatchedImages([img1,])\n",
    "moving = BatchedImages([img2,])\n",
    "transform = AffineRegistration([8, 4, 2, 1], [1000, 500, 250, 100], fixed, moving, \\\n",
    "# transform = RigidRegistration([8, 4, 2], [100, 50, 25], fixed, moving, \\\n",
    "    loss_type='cc', optimizer='Adam', optimizer_lr=1e-3, optimizer_momentum=0.0)\n",
    "moved = transform.optimize(save_transformed=True)"
   ]
  },
  {
   "cell_type": "code",
   "execution_count": 66,
   "id": "3ea94413",
   "metadata": {},
   "outputs": [
    {
     "data": {
      "application/vnd.jupyter.widget-view+json": {
       "model_id": "9474a60130804fe28761d6c050125c06",
       "version_major": 2,
       "version_minor": 0
      },
      "text/plain": [
       "interactive(children=(IntSlider(value=77, description='x', layout=Layout(width='600px'), max=154), IntSlider(v…"
      ]
     },
     "metadata": {},
     "output_type": "display_data"
    }
   ],
   "source": [
    "browse_image_slices(moved[-1][0, 0].data.cpu().numpy() - img1.array[0, 0].data.cpu().numpy())\n",
    "# browse_image_slices(moved[-1][0, 0].data.cpu().numpy())"
   ]
  },
  {
   "cell_type": "code",
   "execution_count": 67,
   "id": "66399136",
   "metadata": {},
   "outputs": [
    {
     "data": {
      "application/vnd.jupyter.widget-view+json": {
       "model_id": "78ceee301bf5479abef3386b72fe3ee3",
       "version_major": 2,
       "version_minor": 0
      },
      "text/plain": [
       "interactive(children=(IntSlider(value=77, description='x', layout=Layout(width='600px'), max=154), IntSlider(v…"
      ]
     },
     "metadata": {},
     "output_type": "display_data"
    }
   ],
   "source": [
    "browse_image_slices(moved[-1][0, 0].data.cpu().numpy() - img2.array[0, 0].data.cpu().numpy())\n",
    "# browse_image_slices(moved[-1][0, 0].data.cpu().numpy())"
   ]
  },
  {
   "cell_type": "code",
   "execution_count": null,
   "id": "58c2a357",
   "metadata": {},
   "outputs": [],
   "source": [
    "# def get_rotation_matrix(rotation, dims, N):\n",
    "#     if dims == 2:\n",
    "#         rotmat = torch.zeros((N, 3, 3), device='cuda')\n",
    "#         rotmat[:, 2, 2] = 1\n",
    "#         cos, sin = torch.cos(rotation[:, 0]), torch.sin(rotation[:, 0])\n",
    "#         rotmat[:, 0, 0] = cos\n",
    "#         rotmat[:, 0, 1] = -sin\n",
    "#         rotmat[:, 1, 0] = sin\n",
    "#         rotmat[:, 1, 1] = cos\n",
    "#     elif self.dims == 3:\n",
    "#         rotmat = torch.zeros((N, 4, 4), device='cuda')\n",
    "#         skew = torch.zeros((N, 3, 3), device='cuda')\n",
    "#         norm = torch.norm(rotation, dim=-1)+1e-8  # [N, 1]\n",
    "#         angle = norm[:, None, None]\n",
    "#         skew[:, 0, 1] = -rotation[:, 2]/norm\n",
    "#         skew[:, 0, 2] = rotation[:, 1]/norm\n",
    "#         skew[:, 1, 0] = rotation[:, 2]/norm\n",
    "#         skew[:, 1, 2] = -rotation[:, 0]/norm\n",
    "#         skew[:, 2, 0] = -rotation[:, 1]/norm\n",
    "#         skew[:, 2, 1] = rotation[:, 0]/norm\n",
    "#         rotmat[:, :3, :3] = torch.eye(3, device=self.rotation.device)[None] + torch.sin(angle) * skew + torch.matmul(skew, skew) * (1 - torch.cos(angle))\n",
    "#         rotmat[:, 3, 3] = 1\n",
    "#     else:\n",
    "#         raise ValueError(f\"Dimensions {self.dims} not supported\")\n",
    "#     return rotmat"
   ]
  },
  {
   "cell_type": "code",
   "execution_count": 9,
   "id": "a82274ee",
   "metadata": {},
   "outputs": [],
   "source": [
    "fixed_arrays = fixed()\n",
    "moving_arrays = moving()\n",
    "fixed_t2p = fixed.get_torch2phy()\n",
    "moving_p2t = moving.get_phy2torch()\n",
    "fixed_size = fixed_arrays.shape[2:]\n",
    "\n",
    "init_grid = torch.eye(3, 4).to(fixed.device).unsqueeze(0).repeat(fixed.size(), 1, 1)  # [N, dims, dims+1]"
   ]
  },
  {
   "cell_type": "code",
   "execution_count": 10,
   "id": "256706dd",
   "metadata": {},
   "outputs": [],
   "source": [
    "scale = 8\n",
    "size_down = [max(int(s / scale), 32) for s in fixed_size]"
   ]
  },
  {
   "cell_type": "code",
   "execution_count": 11,
   "id": "46e89e32",
   "metadata": {},
   "outputs": [
    {
     "data": {
      "text/plain": [
       "[32, 32, 32]"
      ]
     },
     "execution_count": 11,
     "metadata": {},
     "output_type": "execute_result"
    }
   ],
   "source": [
    "size_down"
   ]
  },
  {
   "cell_type": "code",
   "execution_count": 12,
   "id": "0e89bbaf",
   "metadata": {},
   "outputs": [],
   "source": [
    "fixed_image_down = F.interpolate(fixed_arrays, size=size_down, mode=fixed.interpolate_mode, align_corners=True)"
   ]
  },
  {
   "cell_type": "code",
   "execution_count": 13,
   "id": "c04bd8c8",
   "metadata": {},
   "outputs": [
    {
     "data": {
      "application/vnd.jupyter.widget-view+json": {
       "model_id": "f6e02a8282144997b58dd23f1dca0766",
       "version_major": 2,
       "version_minor": 0
      },
      "text/plain": [
       "interactive(children=(IntSlider(value=16, description='x', layout=Layout(width='600px'), max=31), IntSlider(va…"
      ]
     },
     "metadata": {},
     "output_type": "display_data"
    }
   ],
   "source": [
    "browse_image_slices(fixed_image_down[0, 0].data.cpu().numpy())"
   ]
  },
  {
   "cell_type": "code",
   "execution_count": 14,
   "id": "a1cf7429",
   "metadata": {},
   "outputs": [],
   "source": [
    "fixed_image_coords = F.affine_grid(init_grid, fixed_image_down.shape, align_corners=True)"
   ]
  },
  {
   "cell_type": "code",
   "execution_count": 15,
   "id": "df37352d",
   "metadata": {},
   "outputs": [
    {
     "data": {
      "text/plain": [
       "tensor([ 1.,  1., -1.], device='cuda:0')"
      ]
     },
     "execution_count": 15,
     "metadata": {},
     "output_type": "execute_result"
    }
   ],
   "source": [
    "fixed_image_coords[0, 0, -1, -1]"
   ]
  },
  {
   "cell_type": "code",
   "execution_count": 16,
   "id": "64caeebd",
   "metadata": {},
   "outputs": [],
   "source": [
    "fixed_image_coords_homo = torch.cat([fixed_image_coords, torch.ones(list(fixed_image_coords.shape[:-1]) + [1], device=fixed_image_coords.device)], dim=-1)"
   ]
  },
  {
   "cell_type": "code",
   "execution_count": 17,
   "id": "8a25f28b",
   "metadata": {},
   "outputs": [
    {
     "data": {
      "text/plain": [
       "tensor([ 1.0000, -1.0000, -0.7419,  1.0000], device='cuda:0')"
      ]
     },
     "execution_count": 17,
     "metadata": {},
     "output_type": "execute_result"
    }
   ],
   "source": [
    "fixed_image_coords_homo[0, 4, 0, -1]"
   ]
  },
  {
   "cell_type": "code",
   "execution_count": 18,
   "id": "50ae5708",
   "metadata": {},
   "outputs": [
    {
     "name": "stdout",
     "output_type": "stream",
     "text": [
      "torch.Size([1, 4, 4]) torch.Size([1, 32, 32, 32, 4])\n",
      "tensor([[[ 119.5000,    0.0000,    0.0000,  119.5000],\n",
      "         [   0.0000,  119.5000,    0.0000, -119.5000],\n",
      "         [   0.0000,    0.0000,   77.0000,   77.0000],\n",
      "         [   0.0000,    0.0000,    0.0000,    1.0000]]], device='cuda:0')\n"
     ]
    }
   ],
   "source": [
    "fixed_image_coords_homo_phy = torch.einsum('ntd, n...d->n...t', fixed_t2p, fixed_image_coords_homo)\n",
    "print(fixed_t2p.shape, fixed_image_coords_homo.shape)\n",
    "print(fixed_t2p)"
   ]
  },
  {
   "cell_type": "code",
   "execution_count": 19,
   "id": "9d866a1c",
   "metadata": {},
   "outputs": [
    {
     "data": {
      "text/plain": [
       "tensor([ 239.0000, -239.0000,   19.8710,    1.0000], device='cuda:0')"
      ]
     },
     "execution_count": 19,
     "metadata": {},
     "output_type": "execute_result"
    }
   ],
   "source": [
    "fixed_image_coords_homo_phy[0, 4, 0, -1]"
   ]
  },
  {
   "cell_type": "code",
   "execution_count": 20,
   "id": "2bad7032",
   "metadata": {},
   "outputs": [],
   "source": [
    "moved_image_coords_homo = torch.einsum('ntd, n...d->n...t', moving_p2t, fixed_image_coords_homo_phy)"
   ]
  },
  {
   "cell_type": "code",
   "execution_count": 21,
   "id": "10c0ed29",
   "metadata": {},
   "outputs": [
    {
     "data": {
      "text/plain": [
       "tensor([ 1., -1., -1.,  1.], device='cuda:0')"
      ]
     },
     "execution_count": 21,
     "metadata": {},
     "output_type": "execute_result"
    }
   ],
   "source": [
    "moved_image_coords_homo[0, 0, 0, -1]"
   ]
  },
  {
   "cell_type": "code",
   "execution_count": 22,
   "id": "bbd6944e",
   "metadata": {},
   "outputs": [
    {
     "data": {
      "text/plain": [
       "(array([[   1.,    0.,    0.,    0.],\n",
       "        [   0.,    1.,    0., -239.],\n",
       "        [   0.,    0.,    1.,    0.],\n",
       "        [   0.,    0.,    0.,    1.]]),\n",
       " array([[119.5,   0. ,   0. , 119.5],\n",
       "        [  0. , 119.5,   0. , 119.5],\n",
       "        [  0. ,   0. ,  77. ,  77. ],\n",
       "        [  0. ,   0. ,   0. ,   1. ]]))"
      ]
     },
     "execution_count": 22,
     "metadata": {},
     "output_type": "execute_result"
    }
   ],
   "source": [
    "img1._px2phy, img1._torch2px"
   ]
  },
  {
   "cell_type": "code",
   "execution_count": 23,
   "id": "553759a0",
   "metadata": {},
   "outputs": [
    {
     "name": "stdout",
     "output_type": "stream",
     "text": [
      "[[ 119.5    0.     0.   119.5]\n",
      " [   0.   119.5    0.  -119.5]\n",
      " [   0.     0.    77.    77. ]\n",
      " [   0.     0.     0.     1. ]]\n"
     ]
    }
   ],
   "source": [
    "print(np.around(img1._px2phy @ img1._torch2px, 2))"
   ]
  },
  {
   "cell_type": "code",
   "execution_count": 24,
   "id": "5fbe6fd2",
   "metadata": {},
   "outputs": [
    {
     "data": {
      "text/plain": [
       "(array([[119.5,   0. ,   0. , 119.5],\n",
       "        [  0. , 119.5,   0. , 119.5],\n",
       "        [  0. ,   0. ,  77. ,  77. ],\n",
       "        [  0. ,   0. ,   0. ,   1. ]]),\n",
       " array([[   1.,    0.,    0.,    0.],\n",
       "        [   0.,    1.,    0., -239.],\n",
       "        [   0.,    0.,    1.,    0.],\n",
       "        [   0.,    0.,    0.,    1.]]))"
      ]
     },
     "execution_count": 24,
     "metadata": {},
     "output_type": "execute_result"
    }
   ],
   "source": [
    "img1._torch2px, img1._px2phy"
   ]
  },
  {
   "cell_type": "code",
   "execution_count": 25,
   "id": "230300e7",
   "metadata": {},
   "outputs": [
    {
     "data": {
      "text/plain": [
       "tensor([[[ 119.5000,    0.0000,    0.0000,  119.5000],\n",
       "         [   0.0000,  119.5000,    0.0000, -119.5000],\n",
       "         [   0.0000,    0.0000,   77.0000,   77.0000],\n",
       "         [   0.0000,    0.0000,    0.0000,    1.0000]]], device='cuda:0')"
      ]
     },
     "execution_count": 25,
     "metadata": {},
     "output_type": "execute_result"
    }
   ],
   "source": [
    "img1.torch2phy"
   ]
  },
  {
   "cell_type": "code",
   "execution_count": 26,
   "id": "418b346b",
   "metadata": {},
   "outputs": [
    {
     "data": {
      "text/plain": [
       "tensor([[[ 0.0084,  0.0000,  0.0000, -1.0000],\n",
       "         [ 0.0000,  0.0084,  0.0000,  1.0000],\n",
       "         [ 0.0000,  0.0000,  0.0130, -1.0000],\n",
       "         [ 0.0000,  0.0000,  0.0000,  1.0000]]], device='cuda:0')"
      ]
     },
     "execution_count": 26,
     "metadata": {},
     "output_type": "execute_result"
    }
   ],
   "source": [
    "img1.phy2torch"
   ]
  },
  {
   "cell_type": "code",
   "execution_count": null,
   "id": "252a4b67",
   "metadata": {},
   "outputs": [],
   "source": []
  }
 ],
 "metadata": {
  "kernelspec": {
   "display_name": "Python 3 (ipykernel)",
   "language": "python",
   "name": "python3"
  },
  "language_info": {
   "codemirror_mode": {
    "name": "ipython",
    "version": 3
   },
   "file_extension": ".py",
   "mimetype": "text/x-python",
   "name": "python",
   "nbconvert_exporter": "python",
   "pygments_lexer": "ipython3",
   "version": "3.7.16"
  }
 },
 "nbformat": 4,
 "nbformat_minor": 5
}
