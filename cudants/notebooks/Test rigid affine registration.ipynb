{
 "cells": [
  {
   "cell_type": "code",
   "execution_count": 55,
   "id": "6ad1e82f",
   "metadata": {
    "scrolled": true
   },
   "outputs": [],
   "source": [
    "%reload_ext autoreload\n",
    "%autoreload 2\n",
    "from cudants.io.image import Image, BatchedImages\n",
    "from cudants.registration.rigid import RigidRegistration\n",
    "from cudants.registration.affine import AffineRegistration\n",
    "import torch\n",
    "from torch.optim import SGD, Adam\n",
    "from torch.nn import functional as F\n",
    "from torch import nn"
   ]
  },
  {
   "cell_type": "code",
   "execution_count": 56,
   "id": "e20d323e",
   "metadata": {
    "scrolled": true
   },
   "outputs": [],
   "source": [
    "img1 = Image.load_file('/data/BRATS2021/training/BraTS2021_00598/BraTS2021_00598_t1.nii.gz')\n",
    "img2 = Image.load_file('/data/BRATS2021/training/BraTS2021_00597/BraTS2021_00597_t1.nii.gz')\n",
    "\n",
    "# img2 = Image.load_file('/data/BRATS2021/training/BraTS2021_01100/BraTS2021_01100_t1.nii.gz')\n",
    "# img2 = Image.load_file('/data/BRATS2021/training/BraTS2021_00262/BraTS2021_00262_t1.nii.gz')\n",
    "# img2 = Image.load_file('/data/BRATS2021/training/BraTS2021_00403/BraTS2021_00403_t1.nii.gz')\n",
    "\n",
    "# img1 = Image.load_file(\"images/atlas_2mm_1000_3.nii.gz\")\n",
    "# img2 = Image.load_file(\"images/atlas_2mm_1001_3.nii.gz\")\n",
    "\n",
    "# img1 = Image.load_file(\"testing/atlas_2mm_1000_3.nii.gz\")\n",
    "# img2 = Image.load_file(\"testing/reslice_affine_fx_1000_mv_1001.nii.gz\")"
   ]
  },
  {
   "cell_type": "code",
   "execution_count": 57,
   "id": "657ba70c",
   "metadata": {
    "scrolled": true
   },
   "outputs": [],
   "source": [
    "%matplotlib inline\n",
    "import numpy as np\n",
    "import matplotlib.pyplot as plt\n",
    "from ipywidgets import interact, interactive, IntSlider, Layout\n",
    "\n",
    "def browse_image_slices(image_3d):\n",
    "    # Infer the dimensions of image\n",
    "    if len(image_3d.shape) == 3:\n",
    "        dim_x, dim_y, dim_z = image_3d.shape\n",
    "        color = False\n",
    "    else:\n",
    "        dim_x, dim_y, dim_z = image_3d.shape[:-1]\n",
    "        color = True\n",
    "    # Define a function to visualize the slices\n",
    "    def plot_slice(x, y, z):\n",
    "        fig, ax = plt.subplots(1, 3, figsize=(15, 5))\n",
    "\n",
    "        ax[0].imshow(image_3d[x, :, :], cmap='gray' if not color else None)\n",
    "        ax[0].set_title('Slice at X = %d' % x)\n",
    "\n",
    "        ax[1].imshow(image_3d[:, y, :], cmap='gray' if not color else None)\n",
    "        ax[1].set_title('Slice at Y = %d' % y)\n",
    "\n",
    "        ax[2].imshow(image_3d[:, :, z], cmap='gray' if not color else None)\n",
    "        ax[2].set_title('Slice at Z = %d' % z)\n",
    "\n",
    "        plt.show()\n",
    "\n",
    "    # Use interact to create the UI with sliders\n",
    "    interact(plot_slice,\n",
    "             x=IntSlider(min=0, max=dim_x-1, value=dim_x//2, layout=Layout(width='600px')),\n",
    "             y=IntSlider(min=0, max=dim_y-1, value=dim_y//2, layout=Layout(width='600px')),\n",
    "             z=IntSlider(min=0, max=dim_z-1, value=dim_z//2, layout=Layout(width='600px')))"
   ]
  },
  {
   "cell_type": "code",
   "execution_count": 58,
   "id": "16125c47",
   "metadata": {
    "scrolled": true
   },
   "outputs": [
    {
     "data": {
      "application/vnd.jupyter.widget-view+json": {
       "model_id": "a386d1227804487daf936d6d37bff255",
       "version_major": 2,
       "version_minor": 0
      },
      "text/plain": [
       "interactive(children=(IntSlider(value=77, description='x', layout=Layout(width='600px'), max=154), IntSlider(v…"
      ]
     },
     "metadata": {},
     "output_type": "display_data"
    }
   ],
   "source": [
    "# Test the function\n",
    "browse_image_slices(img1.array[0, 0].data.cpu().numpy())"
   ]
  },
  {
   "cell_type": "code",
   "execution_count": 59,
   "id": "c3b83608",
   "metadata": {
    "scrolled": true
   },
   "outputs": [
    {
     "data": {
      "application/vnd.jupyter.widget-view+json": {
       "model_id": "a12deeff1fd244babad432d33d1caa09",
       "version_major": 2,
       "version_minor": 0
      },
      "text/plain": [
       "interactive(children=(IntSlider(value=77, description='x', layout=Layout(width='600px'), max=154), IntSlider(v…"
      ]
     },
     "metadata": {},
     "output_type": "display_data"
    }
   ],
   "source": [
    "# Test the function\n",
    "browse_image_slices(img2.array[0, 0].data.cpu().numpy())"
   ]
  },
  {
   "cell_type": "code",
   "execution_count": 60,
   "id": "8bb4f09a",
   "metadata": {
    "scrolled": true
   },
   "outputs": [
    {
     "name": "stderr",
     "output_type": "stream",
     "text": [
      "scale: 8, iter: 199/200, loss: -0.274023: 100%|████████████████████████████████████████████████████████████████████████████████████████████████████████████████| 200/200 [00:00<00:00, 351.17it/s]\n",
      "scale: 4, iter: 99/100, loss: -0.169345: 100%|█████████████████████████████████████████████████████████████████████████████████████████████████████████████████| 100/100 [00:00<00:00, 359.61it/s]\n",
      "scale: 2, iter: 49/50, loss: -0.098508: 100%|████████████████████████████████████████████████████████████████████████████████████████████████████████████████████| 50/50 [00:00<00:00, 160.21it/s]\n",
      "scale: 1, iter: 19/20, loss: -0.051336: 100%|█████████████████████████████████████████████████████████████████████████████████████████████████████████████████████| 20/20 [00:00<00:00, 24.93it/s]\n"
     ]
    }
   ],
   "source": [
    "from cudants.registration.affine import AffineRegistration\n",
    "fixed = BatchedImages([img1,])\n",
    "moving = BatchedImages([img2,])\n",
    "# transform = AffineRegistration([8, 4, 2, 1], [1000, 500, 250, 100], fixed, moving, \\\n",
    "transform = AffineRegistration([8, 4, 2, 1], [200, 100, 50, 20], fixed, moving, \\\n",
    "    loss_type='cc', optimizer='Adam', optimizer_lr=3e-4, optimizer_momentum=0.9)\n",
    "moved = transform.optimize(save_transformed=True)"
   ]
  },
  {
   "cell_type": "code",
   "execution_count": 61,
   "id": "d6043fc4",
   "metadata": {
    "scrolled": false
   },
   "outputs": [
    {
     "name": "stdout",
     "output_type": "stream",
     "text": [
      "tensor([[[ 1.0024, -0.0073, -0.0196, -0.0262],\n",
      "         [ 0.0115,  0.9549, -0.0159,  0.0330],\n",
      "         [ 0.0398, -0.0611,  0.9607,  0.0367],\n",
      "         [ 0.0000,  0.0000,  0.0000,  1.0000]]], device='cuda:0',\n",
      "       grad_fn=<CatBackward0>)\n"
     ]
    }
   ],
   "source": [
    "print(transform.get_affine_matrix())"
   ]
  },
  {
   "cell_type": "code",
   "execution_count": 62,
   "id": "3ea94413",
   "metadata": {
    "scrolled": true
   },
   "outputs": [
    {
     "data": {
      "application/vnd.jupyter.widget-view+json": {
       "model_id": "a6764ee1d9464f89ac7688820b8f1a9e",
       "version_major": 2,
       "version_minor": 0
      },
      "text/plain": [
       "interactive(children=(IntSlider(value=77, description='x', layout=Layout(width='600px'), max=154), IntSlider(v…"
      ]
     },
     "metadata": {},
     "output_type": "display_data"
    },
    {
     "data": {
      "application/vnd.jupyter.widget-view+json": {
       "model_id": "aeddb23e261f4ec0a653896bdb0a7a38",
       "version_major": 2,
       "version_minor": 0
      },
      "text/plain": [
       "interactive(children=(IntSlider(value=77, description='x', layout=Layout(width='600px'), max=154), IntSlider(v…"
      ]
     },
     "metadata": {},
     "output_type": "display_data"
    },
    {
     "data": {
      "application/vnd.jupyter.widget-view+json": {
       "model_id": "3de7d3a7d3cb414c852f16269cd2f50a",
       "version_major": 2,
       "version_minor": 0
      },
      "text/plain": [
       "interactive(children=(IntSlider(value=77, description='x', layout=Layout(width='600px'), max=154), IntSlider(v…"
      ]
     },
     "metadata": {},
     "output_type": "display_data"
    }
   ],
   "source": [
    "browse_image_slices(moved[-1][0, 0].data.cpu().numpy() - img1.array[0, 0].data.cpu().numpy())\n",
    "browse_image_slices(moved[-1][0, 0].data.cpu().numpy())\n",
    "browse_image_slices(img1.array[0, 0].data.cpu().numpy())"
   ]
  },
  {
   "cell_type": "code",
   "execution_count": 63,
   "id": "66399136",
   "metadata": {
    "scrolled": true
   },
   "outputs": [
    {
     "data": {
      "application/vnd.jupyter.widget-view+json": {
       "model_id": "ca2d89570c144cc2936626683aea7bdc",
       "version_major": 2,
       "version_minor": 0
      },
      "text/plain": [
       "interactive(children=(IntSlider(value=77, description='x', layout=Layout(width='600px'), max=154), IntSlider(v…"
      ]
     },
     "metadata": {},
     "output_type": "display_data"
    }
   ],
   "source": [
    "browse_image_slices(moved[-1][0, 0].data.cpu().numpy() - img2.array[0, 0].data.cpu().numpy())"
   ]
  },
  {
   "cell_type": "code",
   "execution_count": 137,
   "id": "a07e960c",
   "metadata": {},
   "outputs": [
    {
     "ename": "TypeError",
     "evalue": "__init__() got an unexpected keyword argument 'momentum'",
     "output_type": "error",
     "traceback": [
      "\u001b[0;31m---------------------------------------------------------------------------\u001b[0m",
      "\u001b[0;31mTypeError\u001b[0m                                 Traceback (most recent call last)",
      "\u001b[0;32m/tmp/ipykernel_63137/4250332332.py\u001b[0m in \u001b[0;36m<module>\u001b[0;34m\u001b[0m\n\u001b[1;32m      5\u001b[0m                          \u001b[0mcc_kernel_size\u001b[0m\u001b[0;34m=\u001b[0m\u001b[0;36m5\u001b[0m\u001b[0;34m,\u001b[0m\u001b[0;34m\u001b[0m\u001b[0;34m\u001b[0m\u001b[0m\n\u001b[1;32m      6\u001b[0m                          \u001b[0moptimizer\u001b[0m\u001b[0;34m=\u001b[0m\u001b[0;34m'Adam'\u001b[0m\u001b[0;34m,\u001b[0m \u001b[0moptimizer_lr\u001b[0m\u001b[0;34m=\u001b[0m\u001b[0;36m2e-3\u001b[0m\u001b[0;34m,\u001b[0m\u001b[0;34m\u001b[0m\u001b[0;34m\u001b[0m\u001b[0m\n\u001b[0;32m----> 7\u001b[0;31m                          smooth_grad_sigma=0.25, smooth_warp_sigma=0.25)\n\u001b[0m\u001b[1;32m      8\u001b[0m \u001b[0msaved_deformable\u001b[0m \u001b[0;34m=\u001b[0m \u001b[0mreg\u001b[0m\u001b[0;34m.\u001b[0m\u001b[0moptimize\u001b[0m\u001b[0;34m(\u001b[0m\u001b[0msave_transformed\u001b[0m\u001b[0;34m=\u001b[0m\u001b[0;32mTrue\u001b[0m\u001b[0;34m)\u001b[0m\u001b[0;34m\u001b[0m\u001b[0;34m\u001b[0m\u001b[0m\n",
      "\u001b[0;32m~/code/CUDANTs/cudants/registration/syn.py\u001b[0m in \u001b[0;36m__init__\u001b[0;34m(self, scales, iterations, fixed_images, moving_images, loss_type, deformation_type, optimizer, optimizer_params, optimizer_lr, optimizer_momentum, integrator_n, mi_kernel_type, cc_kernel_type, smooth_warp_sigma, smooth_grad_sigma, cc_kernel_size, tolerance, max_tolerance_iters, tolerance_mode, init_affine, blur, custom_loss)\u001b[0m\n\u001b[1;32m     51\u001b[0m             fwd_warp = GeodesicShooting(fixed_images, moving_images, integrator_n=integrator_n, \n\u001b[1;32m     52\u001b[0m                                         \u001b[0moptimizer\u001b[0m\u001b[0;34m=\u001b[0m\u001b[0moptimizer\u001b[0m\u001b[0;34m,\u001b[0m \u001b[0moptimizer_lr\u001b[0m\u001b[0;34m=\u001b[0m\u001b[0moptimizer_lr\u001b[0m\u001b[0;34m,\u001b[0m \u001b[0moptimizer_params\u001b[0m\u001b[0;34m=\u001b[0m\u001b[0moptimizer_params\u001b[0m\u001b[0;34m,\u001b[0m\u001b[0;34m\u001b[0m\u001b[0;34m\u001b[0m\u001b[0m\n\u001b[0;32m---> 53\u001b[0;31m                                         smoothing_grad_sigma=smooth_grad_sigma)\n\u001b[0m\u001b[1;32m     54\u001b[0m             rev_warp = GeodesicShooting(fixed_images, moving_images, integrator_n=integrator_n, \n\u001b[1;32m     55\u001b[0m                                         \u001b[0moptimizer\u001b[0m\u001b[0;34m=\u001b[0m\u001b[0moptimizer\u001b[0m\u001b[0;34m,\u001b[0m \u001b[0moptimizer_lr\u001b[0m\u001b[0;34m=\u001b[0m\u001b[0moptimizer_lr\u001b[0m\u001b[0;34m,\u001b[0m \u001b[0moptimizer_params\u001b[0m\u001b[0;34m=\u001b[0m\u001b[0moptimizer_params\u001b[0m\u001b[0;34m,\u001b[0m\u001b[0;34m\u001b[0m\u001b[0;34m\u001b[0m\u001b[0m\n",
      "\u001b[0;32m~/code/CUDANTs/cudants/registration/deformation/geodesic.py\u001b[0m in \u001b[0;36m__init__\u001b[0;34m(self, fixed_images, moving_images, integrator_n, optimizer, optimizer_lr, optimizer_params, smoothing_grad_sigma)\u001b[0m\n\u001b[1;32m     44\u001b[0m         \u001b[0mself\u001b[0m\u001b[0;34m.\u001b[0m\u001b[0mintegrator_n\u001b[0m \u001b[0;34m=\u001b[0m \u001b[0mintegrator_n\u001b[0m\u001b[0;34m\u001b[0m\u001b[0;34m\u001b[0m\u001b[0m\n\u001b[1;32m     45\u001b[0m         \u001b[0;31m# define optimizer\u001b[0m\u001b[0;34m\u001b[0m\u001b[0;34m\u001b[0m\u001b[0;34m\u001b[0m\u001b[0m\n\u001b[0;32m---> 46\u001b[0;31m         \u001b[0mself\u001b[0m\u001b[0;34m.\u001b[0m\u001b[0moptimizer\u001b[0m \u001b[0;34m=\u001b[0m \u001b[0mgetattr\u001b[0m\u001b[0;34m(\u001b[0m\u001b[0mtorch\u001b[0m\u001b[0;34m.\u001b[0m\u001b[0moptim\u001b[0m\u001b[0;34m,\u001b[0m \u001b[0moptimizer\u001b[0m\u001b[0;34m)\u001b[0m\u001b[0;34m(\u001b[0m\u001b[0;34m[\u001b[0m\u001b[0mself\u001b[0m\u001b[0;34m.\u001b[0m\u001b[0mvelocity_field\u001b[0m\u001b[0;34m]\u001b[0m\u001b[0;34m,\u001b[0m \u001b[0mlr\u001b[0m\u001b[0;34m=\u001b[0m\u001b[0moptimizer_lr\u001b[0m\u001b[0;34m,\u001b[0m \u001b[0;34m**\u001b[0m\u001b[0moptimizer_params\u001b[0m\u001b[0;34m)\u001b[0m\u001b[0;34m\u001b[0m\u001b[0;34m\u001b[0m\u001b[0m\n\u001b[0m\u001b[1;32m     47\u001b[0m         \u001b[0mself\u001b[0m\u001b[0;34m.\u001b[0m\u001b[0moptimizer_lr\u001b[0m \u001b[0;34m=\u001b[0m \u001b[0moptimizer_lr\u001b[0m\u001b[0;34m\u001b[0m\u001b[0;34m\u001b[0m\u001b[0m\n\u001b[1;32m     48\u001b[0m         \u001b[0mself\u001b[0m\u001b[0;34m.\u001b[0m\u001b[0moptimizer_name\u001b[0m \u001b[0;34m=\u001b[0m \u001b[0moptimizer\u001b[0m\u001b[0;34m\u001b[0m\u001b[0;34m\u001b[0m\u001b[0m\n",
      "\u001b[0;31mTypeError\u001b[0m: __init__() got an unexpected keyword argument 'momentum'"
     ]
    }
   ],
   "source": [
    "from cudants.registration.syn import SyNRegistration\n",
    "reg = SyNRegistration([4, 2, 1], [100, 50, 20], fixed, moving, \n",
    "                        integrator_n=10, init_affine=transform.get_affine_matrix().detach(),\n",
    "#                          optimizer='SGD', optimizer_lr=5e0, optimizer_momentum=0.2,\n",
    "                         cc_kernel_size=5,\n",
    "                         optimizer='Adam', optimizer_lr=2e-3, \n",
    "                         smooth_grad_sigma=0.25, smooth_warp_sigma=0.25)\n",
    "saved_deformable = reg.optimize(save_transformed=True)"
   ]
  },
  {
   "cell_type": "code",
   "execution_count": 116,
   "id": "2bd9466a",
   "metadata": {},
   "outputs": [
    {
     "data": {
      "application/vnd.jupyter.widget-view+json": {
       "model_id": "4375153544ea420a82e927f22797642d",
       "version_major": 2,
       "version_minor": 0
      },
      "text/plain": [
       "interactive(children=(IntSlider(value=77, description='x', layout=Layout(width='600px'), max=154), IntSlider(v…"
      ]
     },
     "metadata": {},
     "output_type": "display_data"
    },
    {
     "data": {
      "application/vnd.jupyter.widget-view+json": {
       "model_id": "928d706e729647989a4aa80b4facc15e",
       "version_major": 2,
       "version_minor": 0
      },
      "text/plain": [
       "interactive(children=(IntSlider(value=77, description='x', layout=Layout(width='600px'), max=154), IntSlider(v…"
      ]
     },
     "metadata": {},
     "output_type": "display_data"
    },
    {
     "data": {
      "application/vnd.jupyter.widget-view+json": {
       "model_id": "487db5697fdc4d48b89303d0a632129e",
       "version_major": 2,
       "version_minor": 0
      },
      "text/plain": [
       "interactive(children=(IntSlider(value=77, description='x', layout=Layout(width='600px'), max=154), IntSlider(v…"
      ]
     },
     "metadata": {},
     "output_type": "display_data"
    }
   ],
   "source": [
    "# browse_image_slices(saved_deformable[-1][0, 0].data.cpu().numpy()- moved[-1][0, 0].data.cpu().numpy())\n",
    "browse_image_slices(saved_deformable[-1][0, 0].data.cpu().numpy())\n",
    "browse_image_slices(img1.array[0, 0].data.cpu().numpy())\n",
    "browse_image_slices(img2.array[0, 0].data.cpu().numpy())"
   ]
  },
  {
   "cell_type": "markdown",
   "id": "1130f065",
   "metadata": {},
   "source": [
    "# Greedy registration"
   ]
  },
  {
   "cell_type": "code",
   "execution_count": 135,
   "id": "75459f0c",
   "metadata": {
    "scrolled": true
   },
   "outputs": [
    {
     "name": "stderr",
     "output_type": "stream",
     "text": [
      "scale: 4, iter: 99/100, loss: -0.366366: 100%|█████████████████████████████████████████████████████████████████████████████████████████████████████████████████| 100/100 [00:00<00:00, 136.10it/s]\n",
      "scale: 2, iter: 49/50, loss: -0.281196: 100%|█████████████████████████████████████████████████████████████████████████████████████████████████████████████████████| 50/50 [00:00<00:00, 65.07it/s]\n",
      "scale: 1, iter: 24/25, loss: -0.189546: 100%|█████████████████████████████████████████████████████████████████████████████████████████████████████████████████████| 25/25 [00:02<00:00,  9.02it/s]\n"
     ]
    }
   ],
   "source": [
    "from cudants.registration.deformation.geodesic import GeodesicShooting\n",
    "from cudants.registration.greedy import GreedyRegistration\n",
    "reg = GreedyRegistration([4, 2, 1], [100, 50, 25], fixed, moving, \n",
    "                        integrator_n=10, init_affine=transform.get_affine_matrix().detach(),\n",
    "#                          optimizer='SGD', optimizer_lr=10e0, optimizer_momentum=0.2,\n",
    "                         cc_kernel_size = 5,\n",
    "                        optimizer='Adam', optimizer_lr=1e-2, \n",
    "                         smooth_grad_sigma=0.25, smooth_warp_sigma=0.25)\n",
    "saved_deformable = reg.optimize(save_transformed=True)"
   ]
  },
  {
   "cell_type": "code",
   "execution_count": 136,
   "id": "74f2f5f5",
   "metadata": {
    "scrolled": false
   },
   "outputs": [
    {
     "data": {
      "application/vnd.jupyter.widget-view+json": {
       "model_id": "c065651674e14c4eb0e7beb534e8de71",
       "version_major": 2,
       "version_minor": 0
      },
      "text/plain": [
       "interactive(children=(IntSlider(value=77, description='x', layout=Layout(width='600px'), max=154), IntSlider(v…"
      ]
     },
     "metadata": {},
     "output_type": "display_data"
    },
    {
     "data": {
      "application/vnd.jupyter.widget-view+json": {
       "model_id": "bae395cdd7c24ca0a591f63bc1f2359a",
       "version_major": 2,
       "version_minor": 0
      },
      "text/plain": [
       "interactive(children=(IntSlider(value=77, description='x', layout=Layout(width='600px'), max=154), IntSlider(v…"
      ]
     },
     "metadata": {},
     "output_type": "display_data"
    },
    {
     "data": {
      "application/vnd.jupyter.widget-view+json": {
       "model_id": "d62828614f5c4d508da4c645c99b699c",
       "version_major": 2,
       "version_minor": 0
      },
      "text/plain": [
       "interactive(children=(IntSlider(value=77, description='x', layout=Layout(width='600px'), max=154), IntSlider(v…"
      ]
     },
     "metadata": {},
     "output_type": "display_data"
    }
   ],
   "source": [
    "# browse_image_slices(saved_deformable[-1][0, 0].data.cpu().numpy()- moved[-1][0, 0].data.cpu().numpy())\n",
    "browse_image_slices(saved_deformable[-1][0, 0].data.cpu().numpy())\n",
    "browse_image_slices(img1.array[0, 0].data.cpu().numpy())\n",
    "browse_image_slices(img2.array[0, 0].data.cpu().numpy())"
   ]
  },
  {
   "cell_type": "code",
   "execution_count": null,
   "id": "d50e1f95",
   "metadata": {
    "scrolled": true
   },
   "outputs": [],
   "source": [
    "from cudants.registration.logdemons import LogDemonsRegistration\n",
    "reg = LogDemonsRegistration([4, 2, 1], [50, 50, 50], fixed, moving, \n",
    "# reg = LogDemonsRegistration([1], [50], fixed, moving,\n",
    "                eps_prime=0.5, init_affine=transform.get_affine_matrix().detach(),  \n",
    "                optical_flow_method='gauss-newton', update_sigma=0.25,\n",
    "                                optical_flow_sigma=0.25, use_lie_bracket=False, symmetric=False)\n",
    "saved_deformable = reg.optimize(save_transformed=True)"
   ]
  },
  {
   "cell_type": "code",
   "execution_count": null,
   "id": "9d8efacc",
   "metadata": {
    "scrolled": false
   },
   "outputs": [],
   "source": [
    "browse_image_slices(saved_deformable[-1][0, 0].data.cpu().numpy()- moved[-1][0, 0].data.cpu().numpy())\n",
    "browse_image_slices(saved_deformable[-1][0, 0].data.cpu().numpy())\n",
    "browse_image_slices(img1.array[0, 0].data.cpu().numpy())\n",
    "browse_image_slices(img2.array[0, 0].data.cpu().numpy())\n",
    "# browse_image_slices(moved[-1][0, 0].data.cpu().numpy())"
   ]
  },
  {
   "cell_type": "code",
   "execution_count": null,
   "id": "e34d4c48",
   "metadata": {
    "scrolled": false
   },
   "outputs": [],
   "source": [
    "# browse_image_slices(saved_deformable[-1][0, 0].data.cpu().numpy()- moved[-1][0, 0].data.cpu().numpy())\n",
    "# browse_image_slices(saved_deformable[-1][0, 0].data.cpu().numpy())\n",
    "# browse_image_slices(img1.array[0, 0].data.cpu().numpy())\n",
    "# browse_image_slices(img2.array[0, 0].data.cpu().numpy())\n",
    "# browse_image_slices(moved[-1][0, 0].data.cpu().numpy())"
   ]
  },
  {
   "cell_type": "code",
   "execution_count": null,
   "id": "0d842a9f",
   "metadata": {
    "scrolled": false
   },
   "outputs": [],
   "source": []
  },
  {
   "cell_type": "markdown",
   "id": "86fb7027",
   "metadata": {},
   "source": [
    "## Check Optical Flow"
   ]
  },
  {
   "cell_type": "code",
   "execution_count": null,
   "id": "56cda4c5",
   "metadata": {
    "scrolled": true
   },
   "outputs": [],
   "source": [
    "browse_image_slices(reg.velocity_fields[-1][0].data.cpu().numpy() - reg.velocity_fields[-1].min().item())"
   ]
  },
  {
   "cell_type": "code",
   "execution_count": null,
   "id": "a1084c3b",
   "metadata": {
    "scrolled": false
   },
   "outputs": [],
   "source": []
  }
 ],
 "metadata": {
  "kernelspec": {
   "display_name": "Python 3 (ipykernel)",
   "language": "python",
   "name": "python3"
  },
  "language_info": {
   "codemirror_mode": {
    "name": "ipython",
    "version": 3
   },
   "file_extension": ".py",
   "mimetype": "text/x-python",
   "name": "python",
   "nbconvert_exporter": "python",
   "pygments_lexer": "ipython3",
   "version": "3.7.16"
  }
 },
 "nbformat": 4,
 "nbformat_minor": 5
}
