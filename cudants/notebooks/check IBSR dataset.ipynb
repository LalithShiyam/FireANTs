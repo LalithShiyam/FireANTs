{
 "cells": [
  {
   "cell_type": "markdown",
   "id": "163f381f",
   "metadata": {},
   "source": [
    "# Check metadata consistency between image and labels"
   ]
  },
  {
   "cell_type": "code",
   "execution_count": 1,
   "id": "4ed43975",
   "metadata": {},
   "outputs": [],
   "source": [
    "from glob import glob\n",
    "import torch\n",
    "import SimpleITK as sitk\n",
    "from os import path as osp\n",
    "import numpy as np"
   ]
  },
  {
   "cell_type": "code",
   "execution_count": 2,
   "id": "6a30dc82",
   "metadata": {},
   "outputs": [],
   "source": [
    "dirs = sorted(glob(\"/data/IBSR_braindata/IBSR_*\"))"
   ]
  },
  {
   "cell_type": "code",
   "execution_count": 7,
   "id": "8f2e3f77",
   "metadata": {},
   "outputs": [],
   "source": [
    "images = []\n",
    "labels = []\n",
    "for d in dirs:\n",
    "    image = sorted(glob(osp.join(d, \"*strip.nii.gz\")))\n",
    "    label = sorted(glob(osp.join(d, \"*seg_ana.nii.gz\")))\n",
    "    images.append(image)\n",
    "    labels.append(label)"
   ]
  },
  {
   "cell_type": "code",
   "execution_count": 4,
   "id": "aad988cd",
   "metadata": {},
   "outputs": [],
   "source": [
    "totalmin, totalmax = [], []\n",
    "for img, lab in zip(images, labels):\n",
    "    img, lab = sitk.ReadImage(img[0]), sitk.ReadImage(lab[0])\n",
    "    labdata = sitk.GetArrayFromImage(lab)\n",
    "    totalmax.append(labdata.max())\n",
    "    totalmin.append(labdata.min())\n",
    "    # check for similarity of matrices\n",
    "    assert img.GetSpacing() == lab.GetSpacing()\n",
    "    assert img.GetOrigin() == lab.GetOrigin()\n",
    "    assert img.GetDirection() == lab.GetDirection()"
   ]
  },
  {
   "cell_type": "code",
   "execution_count": 5,
   "id": "28851afe",
   "metadata": {},
   "outputs": [],
   "source": [
    "imgspacing = []\n",
    "imgorigin = []\n",
    "imgdir = []\n",
    "for img in images:\n",
    "    img = sitk.ReadImage(img[0])\n",
    "    imgspacing.append(img.GetSpacing())\n",
    "    imgorigin.append(img.GetOrigin())\n",
    "    imgdir.append(img.GetDirection())"
   ]
  },
  {
   "cell_type": "markdown",
   "id": "4e69223d",
   "metadata": {},
   "source": [
    "## Check label distribution"
   ]
  },
  {
   "cell_type": "code",
   "execution_count": 9,
   "id": "7c6e8a0a",
   "metadata": {},
   "outputs": [],
   "source": [
    "alllabelidxs = []\n",
    "for lab in labels:\n",
    "    lab = sitk.ReadImage(lab[0])\n",
    "    labdata = sitk.GetArrayFromImage(lab)\n",
    "    alllabelidxs.extend(list(np.unique(labdata)))"
   ]
  },
  {
   "cell_type": "code",
   "execution_count": 14,
   "id": "60e637d1",
   "metadata": {},
   "outputs": [],
   "source": [
    "count, values = np.histogram(alllabelidxs, bins=max(alllabelidxs))"
   ]
  },
  {
   "cell_type": "code",
   "execution_count": 17,
   "id": "9fabb3e6",
   "metadata": {},
   "outputs": [
    {
     "data": {
      "text/plain": [
       "array([18,  0, 18, 18, 18, 18,  0, 18, 18,  0, 18, 18, 18, 18, 18, 18, 18,\n",
       "       18, 18,  0,  0,  0,  0,  0, 17,  0, 18,  0, 18,  3, 15,  0,  0,  0,\n",
       "        0,  0,  0,  0,  0,  0,  0, 18, 18, 18, 18,  0, 18, 18,  1, 18, 18,\n",
       "       18, 18, 18, 18,  0,  0,  0, 18,  0, 18,  2, 14,  0,  0,  0,  0,  0,\n",
       "        0,  0,  0,  5])"
      ]
     },
     "execution_count": 17,
     "metadata": {},
     "output_type": "execute_result"
    }
   ],
   "source": [
    "count"
   ]
  },
  {
   "cell_type": "code",
   "execution_count": 18,
   "id": "3b0b96cb",
   "metadata": {},
   "outputs": [
    {
     "data": {
      "text/plain": [
       "(array([ 0,  2,  3,  4,  5,  7,  8, 10, 11, 12, 13, 14, 15, 16, 17, 18, 26,\n",
       "        28, 41, 42, 43, 44, 46, 47, 49, 50, 51, 52, 53, 54, 58, 60]),)"
      ]
     },
     "execution_count": 18,
     "metadata": {},
     "output_type": "execute_result"
    }
   ],
   "source": [
    "np.where(count == 18)"
   ]
  },
  {
   "cell_type": "code",
   "execution_count": null,
   "id": "606a7043",
   "metadata": {},
   "outputs": [],
   "source": []
  }
 ],
 "metadata": {
  "kernelspec": {
   "display_name": "Python 3 (ipykernel)",
   "language": "python",
   "name": "python3"
  },
  "language_info": {
   "codemirror_mode": {
    "name": "ipython",
    "version": 3
   },
   "file_extension": ".py",
   "mimetype": "text/x-python",
   "name": "python",
   "nbconvert_exporter": "python",
   "pygments_lexer": "ipython3",
   "version": "3.7.16"
  }
 },
 "nbformat": 4,
 "nbformat_minor": 5
}
