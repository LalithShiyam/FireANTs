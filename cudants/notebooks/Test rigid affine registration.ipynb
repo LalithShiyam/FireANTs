{
 "cells": [
  {
   "cell_type": "code",
   "execution_count": 1,
   "id": "6ad1e82f",
   "metadata": {
    "scrolled": true
   },
   "outputs": [],
   "source": [
    "%reload_ext autoreload\n",
    "%autoreload 2\n",
    "from cudants.io.image import Image, BatchedImages\n",
    "from cudants.registration.rigid import RigidRegistration\n",
    "from cudants.registration.affine import AffineRegistration\n",
    "import torch\n",
    "from torch.optim import SGD, Adam\n",
    "from torch.nn import functional as F\n",
    "from torch import nn"
   ]
  },
  {
   "cell_type": "code",
   "execution_count": 2,
   "id": "e20d323e",
   "metadata": {
    "scrolled": true
   },
   "outputs": [],
   "source": [
    "img1 = Image.load_file('/data/BRATS2021/training/BraTS2021_00598/BraTS2021_00598_t1.nii.gz')\n",
    "# img2 = Image.load_file('/data/BRATS2021/training/BraTS2021_00597/BraTS2021_00597_t1.nii.gz')\n",
    "\n",
    "# img2 = Image.load_file('/data/BRATS2021/training/BraTS2021_01100/BraTS2021_01100_t1.nii.gz')\n",
    "# img2 = Image.load_file('/data/BRATS2021/training/BraTS2021_00262/BraTS2021_00262_t1.nii.gz')\n",
    "img2 = Image.load_file('/data/BRATS2021/training/BraTS2021_00403/BraTS2021_00403_t1.nii.gz')\n",
    "\n",
    "# img1 = Image.load_file(\"images/atlas_2mm_1000_3.nii.gz\")\n",
    "# img2 = Image.load_file(\"images/atlas_2mm_1001_3.nii.gz\")\n",
    "\n",
    "# img1 = Image.load_file(\"testing/atlas_2mm_1000_3.nii.gz\")\n",
    "# img2 = Image.load_file(\"testing/reslice_affine_fx_1000_mv_1001.nii.gz\")"
   ]
  },
  {
   "cell_type": "code",
   "execution_count": 3,
   "id": "657ba70c",
   "metadata": {
    "scrolled": true
   },
   "outputs": [],
   "source": [
    "%matplotlib inline\n",
    "import numpy as np\n",
    "import matplotlib.pyplot as plt\n",
    "from ipywidgets import interact, interactive, IntSlider, Layout\n",
    "\n",
    "def browse_image_slices(image_3d):\n",
    "    # Infer the dimensions of image\n",
    "    if len(image_3d.shape) == 3:\n",
    "        dim_x, dim_y, dim_z = image_3d.shape\n",
    "        color = False\n",
    "    else:\n",
    "        dim_x, dim_y, dim_z = image_3d.shape[:-1]\n",
    "        color = True\n",
    "    # Define a function to visualize the slices\n",
    "    def plot_slice(x, y, z):\n",
    "        fig, ax = plt.subplots(1, 3, figsize=(15, 5))\n",
    "\n",
    "        ax[0].imshow(image_3d[x, :, :], cmap='gray' if not color else None)\n",
    "        ax[0].set_title('Slice at X = %d' % x)\n",
    "\n",
    "        ax[1].imshow(image_3d[:, y, :], cmap='gray' if not color else None)\n",
    "        ax[1].set_title('Slice at Y = %d' % y)\n",
    "\n",
    "        ax[2].imshow(image_3d[:, :, z], cmap='gray' if not color else None)\n",
    "        ax[2].set_title('Slice at Z = %d' % z)\n",
    "\n",
    "        plt.show()\n",
    "\n",
    "    # Use interact to create the UI with sliders\n",
    "    interact(plot_slice,\n",
    "             x=IntSlider(min=0, max=dim_x-1, value=dim_x//2, layout=Layout(width='600px')),\n",
    "             y=IntSlider(min=0, max=dim_y-1, value=dim_y//2, layout=Layout(width='600px')),\n",
    "             z=IntSlider(min=0, max=dim_z-1, value=dim_z//2, layout=Layout(width='600px')))"
   ]
  },
  {
   "cell_type": "code",
   "execution_count": 4,
   "id": "16125c47",
   "metadata": {
    "scrolled": true
   },
   "outputs": [
    {
     "data": {
      "application/vnd.jupyter.widget-view+json": {
       "model_id": "a7c7ff17c3084ba39e21b78e4001c9dc",
       "version_major": 2,
       "version_minor": 0
      },
      "text/plain": [
       "interactive(children=(IntSlider(value=77, description='x', layout=Layout(width='600px'), max=154), IntSlider(v…"
      ]
     },
     "metadata": {},
     "output_type": "display_data"
    }
   ],
   "source": [
    "# Test the function\n",
    "browse_image_slices(img1.array[0, 0].data.cpu().numpy())"
   ]
  },
  {
   "cell_type": "code",
   "execution_count": 5,
   "id": "c3b83608",
   "metadata": {
    "scrolled": true
   },
   "outputs": [
    {
     "data": {
      "application/vnd.jupyter.widget-view+json": {
       "model_id": "cfd0bf03e18f436dbc4173b5ff34a9b5",
       "version_major": 2,
       "version_minor": 0
      },
      "text/plain": [
       "interactive(children=(IntSlider(value=77, description='x', layout=Layout(width='600px'), max=154), IntSlider(v…"
      ]
     },
     "metadata": {},
     "output_type": "display_data"
    }
   ],
   "source": [
    "# Test the function\n",
    "browse_image_slices(img2.array[0, 0].data.cpu().numpy())"
   ]
  },
  {
   "cell_type": "code",
   "execution_count": 6,
   "id": "8bb4f09a",
   "metadata": {
    "scrolled": true
   },
   "outputs": [
    {
     "name": "stderr",
     "output_type": "stream",
     "text": [
      "/home/rohitrango/code/CUDANTs/cudants/utils/imageutils.py:75: UserWarning: operator() sees varying value in profiling, ignoring and this should be handled by GUARD logic (Triggered internally at ../torch/csrc/jit/codegen/cuda/parser.cpp:3668.)\n",
      "  image_smooth = separable_filtering(image, gaussians)\n",
      "/home/rohitrango/code/CUDANTs/cudants/registration/affine.py:75: UserWarning: operator() profile_node %70 : int[] = prim::profile_ivalue[profile_failed=\"varying profile values\"](%s.1)\n",
      " does not have profile information (Triggered internally at ../torch/csrc/jit/codegen/cuda/graph_fuser.cpp:105.)\n",
      "  moving_image_blur = separable_filtering(moving_arrays, gaussians)\n",
      "scale: 8, iter: 199/200, loss: -0.227770: 100%|████████████████████████████████████████████████████████████████████████████████████████████████████████████████| 200/200 [00:00<00:00, 259.55it/s]\n",
      "scale: 4, iter: 99/100, loss: -0.147442: 100%|█████████████████████████████████████████████████████████████████████████████████████████████████████████████████| 100/100 [00:00<00:00, 262.64it/s]\n",
      "scale: 2, iter: 49/50, loss: -0.086995: 100%|████████████████████████████████████████████████████████████████████████████████████████████████████████████████████| 50/50 [00:00<00:00, 153.88it/s]\n",
      "scale: 1, iter: 19/20, loss: -0.046513: 100%|█████████████████████████████████████████████████████████████████████████████████████████████████████████████████████| 20/20 [00:00<00:00, 24.64it/s]\n"
     ]
    }
   ],
   "source": [
    "from cudants.registration.affine import AffineRegistration\n",
    "fixed = BatchedImages([img1,])\n",
    "moving = BatchedImages([img2,])\n",
    "# transform = AffineRegistration([8, 4, 2, 1], [1000, 500, 250, 100], fixed, moving, \\\n",
    "transform = AffineRegistration([8, 4, 2, 1], [200, 100, 50, 20], fixed, moving, \\\n",
    "    loss_type='cc', optimizer='Adam', optimizer_lr=3e-4, optimizer_momentum=0.9)\n",
    "moved = transform.optimize(save_transformed=True)"
   ]
  },
  {
   "cell_type": "code",
   "execution_count": null,
   "id": "d6043fc4",
   "metadata": {
    "scrolled": false
   },
   "outputs": [],
   "source": [
    "print(transform.get_affine_matrix())"
   ]
  },
  {
   "cell_type": "code",
   "execution_count": 7,
   "id": "3ea94413",
   "metadata": {
    "scrolled": true
   },
   "outputs": [
    {
     "data": {
      "application/vnd.jupyter.widget-view+json": {
       "model_id": "d4bb81ffdceb4cde9eab5f9577215532",
       "version_major": 2,
       "version_minor": 0
      },
      "text/plain": [
       "interactive(children=(IntSlider(value=77, description='x', layout=Layout(width='600px'), max=154), IntSlider(v…"
      ]
     },
     "metadata": {},
     "output_type": "display_data"
    },
    {
     "data": {
      "application/vnd.jupyter.widget-view+json": {
       "model_id": "09fd7438615c414e8889ca274fe6434d",
       "version_major": 2,
       "version_minor": 0
      },
      "text/plain": [
       "interactive(children=(IntSlider(value=77, description='x', layout=Layout(width='600px'), max=154), IntSlider(v…"
      ]
     },
     "metadata": {},
     "output_type": "display_data"
    },
    {
     "data": {
      "application/vnd.jupyter.widget-view+json": {
       "model_id": "bf1cec6ac5d34656bf6114116aa6ec5d",
       "version_major": 2,
       "version_minor": 0
      },
      "text/plain": [
       "interactive(children=(IntSlider(value=77, description='x', layout=Layout(width='600px'), max=154), IntSlider(v…"
      ]
     },
     "metadata": {},
     "output_type": "display_data"
    }
   ],
   "source": [
    "browse_image_slices(moved[-1][0, 0].data.cpu().numpy() - img1.array[0, 0].data.cpu().numpy())\n",
    "browse_image_slices(moved[-1][0, 0].data.cpu().numpy())\n",
    "browse_image_slices(img1.array[0, 0].data.cpu().numpy())"
   ]
  },
  {
   "cell_type": "code",
   "execution_count": 8,
   "id": "66399136",
   "metadata": {
    "scrolled": true
   },
   "outputs": [
    {
     "data": {
      "application/vnd.jupyter.widget-view+json": {
       "model_id": "7fda28be63954a9389e34b00d002e0d4",
       "version_major": 2,
       "version_minor": 0
      },
      "text/plain": [
       "interactive(children=(IntSlider(value=77, description='x', layout=Layout(width='600px'), max=154), IntSlider(v…"
      ]
     },
     "metadata": {},
     "output_type": "display_data"
    }
   ],
   "source": [
    "browse_image_slices(moved[-1][0, 0].data.cpu().numpy() - img2.array[0, 0].data.cpu().numpy())"
   ]
  },
  {
   "cell_type": "code",
   "execution_count": 19,
   "id": "75459f0c",
   "metadata": {
    "scrolled": true
   },
   "outputs": [
    {
     "name": "stderr",
     "output_type": "stream",
     "text": [
      "scale: 8, iter: 99/100, loss: -0.379547: 100%|█████████████████████████████████████████████████████████████████████████████████████████████████████████████████| 100/100 [00:00<00:00, 173.89it/s]\n",
      "scale: 4, iter: 99/100, loss: -0.305673: 100%|█████████████████████████████████████████████████████████████████████████████████████████████████████████████████| 100/100 [00:00<00:00, 176.89it/s]\n",
      "scale: 2, iter: 49/50, loss: -0.254539: 100%|█████████████████████████████████████████████████████████████████████████████████████████████████████████████████████| 50/50 [00:00<00:00, 66.24it/s]\n",
      "scale: 1, iter: 9/10, loss: -0.155927: 100%|██████████████████████████████████████████████████████████████████████████████████████████████████████████████████████| 10/10 [00:01<00:00,  9.05it/s]\n"
     ]
    }
   ],
   "source": [
    "from cudants.registration.deformation.geodesic import GeodesicShooting\n",
    "from cudants.registration.greedy import GreedyRegistration\n",
    "reg = GreedyRegistration([8, 4, 2, 1], [100, 100, 50, 10], fixed, moving, \n",
    "                        integrator_n=10, init_affine=transform.get_affine_matrix().detach(),\n",
    "#                          optimizer='SGD', optimizer_lr=1e0)\n",
    "                        optimizer='Adam', optimizer_lr=1e-2, smooth_grad_sigma=0.25, smooth_warp_sigma=0.25)\n",
    "saved_deformable = reg.optimize(save_transformed=True)"
   ]
  },
  {
   "cell_type": "code",
   "execution_count": 20,
   "id": "74f2f5f5",
   "metadata": {
    "scrolled": false
   },
   "outputs": [
    {
     "data": {
      "application/vnd.jupyter.widget-view+json": {
       "model_id": "e9875d0121d544398aed5ed030331232",
       "version_major": 2,
       "version_minor": 0
      },
      "text/plain": [
       "interactive(children=(IntSlider(value=77, description='x', layout=Layout(width='600px'), max=154), IntSlider(v…"
      ]
     },
     "metadata": {},
     "output_type": "display_data"
    },
    {
     "data": {
      "application/vnd.jupyter.widget-view+json": {
       "model_id": "6576e60ce27d4ffb8aacbbc8ab0ab043",
       "version_major": 2,
       "version_minor": 0
      },
      "text/plain": [
       "interactive(children=(IntSlider(value=77, description='x', layout=Layout(width='600px'), max=154), IntSlider(v…"
      ]
     },
     "metadata": {},
     "output_type": "display_data"
    },
    {
     "data": {
      "application/vnd.jupyter.widget-view+json": {
       "model_id": "3273bfd7d8a94772896eeb9351c142b0",
       "version_major": 2,
       "version_minor": 0
      },
      "text/plain": [
       "interactive(children=(IntSlider(value=77, description='x', layout=Layout(width='600px'), max=154), IntSlider(v…"
      ]
     },
     "metadata": {},
     "output_type": "display_data"
    }
   ],
   "source": [
    "# browse_image_slices(saved_deformable[-1][0, 0].data.cpu().numpy()- moved[-1][0, 0].data.cpu().numpy())\n",
    "browse_image_slices(saved_deformable[-1][0, 0].data.cpu().numpy())\n",
    "browse_image_slices(img1.array[0, 0].data.cpu().numpy())\n",
    "browse_image_slices(img2.array[0, 0].data.cpu().numpy())"
   ]
  },
  {
   "cell_type": "code",
   "execution_count": null,
   "id": "d50e1f95",
   "metadata": {
    "scrolled": true
   },
   "outputs": [],
   "source": [
    "from cudants.registration.logdemons import LogDemonsRegistration\n",
    "reg = LogDemonsRegistration([4, 2, 1], [50, 50, 50], fixed, moving, \n",
    "# reg = LogDemonsRegistration([1], [50], fixed, moving,\n",
    "                eps_prime=0.5, init_affine=transform.get_affine_matrix().detach(),  \n",
    "                optical_flow_method='gauss-newton', update_sigma=0.25,\n",
    "                                optical_flow_sigma=0.25, use_lie_bracket=False, symmetric=False)\n",
    "saved_deformable = reg.optimize(save_transformed=True)"
   ]
  },
  {
   "cell_type": "code",
   "execution_count": null,
   "id": "9d8efacc",
   "metadata": {
    "scrolled": false
   },
   "outputs": [],
   "source": [
    "browse_image_slices(saved_deformable[-1][0, 0].data.cpu().numpy()- moved[-1][0, 0].data.cpu().numpy())\n",
    "browse_image_slices(saved_deformable[-1][0, 0].data.cpu().numpy())\n",
    "browse_image_slices(img1.array[0, 0].data.cpu().numpy())\n",
    "browse_image_slices(img2.array[0, 0].data.cpu().numpy())\n",
    "# browse_image_slices(moved[-1][0, 0].data.cpu().numpy())"
   ]
  },
  {
   "cell_type": "code",
   "execution_count": null,
   "id": "e34d4c48",
   "metadata": {
    "scrolled": false
   },
   "outputs": [],
   "source": [
    "# browse_image_slices(saved_deformable[-1][0, 0].data.cpu().numpy()- moved[-1][0, 0].data.cpu().numpy())\n",
    "# browse_image_slices(saved_deformable[-1][0, 0].data.cpu().numpy())\n",
    "# browse_image_slices(img1.array[0, 0].data.cpu().numpy())\n",
    "# browse_image_slices(img2.array[0, 0].data.cpu().numpy())\n",
    "# browse_image_slices(moved[-1][0, 0].data.cpu().numpy())"
   ]
  },
  {
   "cell_type": "code",
   "execution_count": null,
   "id": "0d842a9f",
   "metadata": {
    "scrolled": false
   },
   "outputs": [],
   "source": []
  },
  {
   "cell_type": "markdown",
   "id": "86fb7027",
   "metadata": {},
   "source": [
    "## Check Optical Flow"
   ]
  },
  {
   "cell_type": "code",
   "execution_count": null,
   "id": "56cda4c5",
   "metadata": {
    "scrolled": true
   },
   "outputs": [],
   "source": [
    "browse_image_slices(reg.velocity_fields[-1][0].data.cpu().numpy() - reg.velocity_fields[-1].min().item())"
   ]
  },
  {
   "cell_type": "code",
   "execution_count": null,
   "id": "a1084c3b",
   "metadata": {
    "scrolled": false
   },
   "outputs": [],
   "source": []
  }
 ],
 "metadata": {
  "kernelspec": {
   "display_name": "Python 3 (ipykernel)",
   "language": "python",
   "name": "python3"
  },
  "language_info": {
   "codemirror_mode": {
    "name": "ipython",
    "version": 3
   },
   "file_extension": ".py",
   "mimetype": "text/x-python",
   "name": "python",
   "nbconvert_exporter": "python",
   "pygments_lexer": "ipython3",
   "version": "3.7.16"
  }
 },
 "nbformat": 4,
 "nbformat_minor": 5
}
