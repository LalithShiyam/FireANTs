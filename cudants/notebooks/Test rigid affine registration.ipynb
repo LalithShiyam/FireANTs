{
 "cells": [
  {
   "cell_type": "code",
   "execution_count": 1,
   "id": "6ad1e82f",
   "metadata": {
    "scrolled": true
   },
   "outputs": [],
   "source": [
    "%reload_ext autoreload\n",
    "%autoreload 2\n",
    "from cudants.io.image import Image, BatchedImages\n",
    "from cudants.registration.rigid import RigidRegistration\n",
    "from cudants.registration.affine import AffineRegistration\n",
    "import torch\n",
    "from torch.optim import SGD, Adam\n",
    "from torch.nn import functional as F\n",
    "from torch import nn"
   ]
  },
  {
   "cell_type": "code",
   "execution_count": 2,
   "id": "e20d323e",
   "metadata": {
    "scrolled": true
   },
   "outputs": [],
   "source": [
    "# img1 = Image.load_file('/data/BRATS2021/training/BraTS2021_00598/BraTS2021_00598_t1.nii.gz')\n",
    "# img2 = Image.load_file('/data/BRATS2021/training/BraTS2021_00597/BraTS2021_00597_t1.nii.gz')\n",
    "img1 = Image.load_file('/data/BRATS2021/training/BraTS2021_00262/BraTS2021_00262_t1.nii.gz')\n",
    "img2 = Image.load_file('/data/BRATS2021/training/BraTS2021_00403/BraTS2021_00403_t1.nii.gz')\n",
    "\n",
    "# img1 = Image.load_file(\"images/atlas_2mm_1000_3.nii.gz\")\n",
    "# img2 = Image.load_file(\"images/atlas_2mm_1001_3.nii.gz\")"
   ]
  },
  {
   "cell_type": "code",
   "execution_count": 3,
   "id": "657ba70c",
   "metadata": {
    "scrolled": true
   },
   "outputs": [],
   "source": [
    "%matplotlib inline\n",
    "import numpy as np\n",
    "import matplotlib.pyplot as plt\n",
    "from ipywidgets import interact, interactive, IntSlider, Layout\n",
    "\n",
    "def browse_image_slices(image_3d):\n",
    "    # Infer the dimensions of image\n",
    "    if len(image_3d.shape) == 3:\n",
    "        dim_x, dim_y, dim_z = image_3d.shape\n",
    "        color = False\n",
    "    else:\n",
    "        dim_x, dim_y, dim_z = image_3d.shape[:-1]\n",
    "        color = True\n",
    "    # Define a function to visualize the slices\n",
    "    def plot_slice(x, y, z):\n",
    "        fig, ax = plt.subplots(1, 3, figsize=(15, 5))\n",
    "\n",
    "        ax[0].imshow(image_3d[x, :, :], cmap='gray' if not color else None)\n",
    "        ax[0].set_title('Slice at X = %d' % x)\n",
    "\n",
    "        ax[1].imshow(image_3d[:, y, :], cmap='gray' if not color else None)\n",
    "        ax[1].set_title('Slice at Y = %d' % y)\n",
    "\n",
    "        ax[2].imshow(image_3d[:, :, z], cmap='gray' if not color else None)\n",
    "        ax[2].set_title('Slice at Z = %d' % z)\n",
    "\n",
    "        plt.show()\n",
    "\n",
    "    # Use interact to create the UI with sliders\n",
    "    interact(plot_slice,\n",
    "             x=IntSlider(min=0, max=dim_x-1, value=dim_x//2, layout=Layout(width='600px')),\n",
    "             y=IntSlider(min=0, max=dim_y-1, value=dim_y//2, layout=Layout(width='600px')),\n",
    "             z=IntSlider(min=0, max=dim_z-1, value=dim_z//2, layout=Layout(width='600px')))"
   ]
  },
  {
   "cell_type": "code",
   "execution_count": 4,
   "id": "16125c47",
   "metadata": {
    "scrolled": true
   },
   "outputs": [
    {
     "data": {
      "application/vnd.jupyter.widget-view+json": {
       "model_id": "d555f56b73914263b21e2669731f12de",
       "version_major": 2,
       "version_minor": 0
      },
      "text/plain": [
       "interactive(children=(IntSlider(value=77, description='x', layout=Layout(width='600px'), max=154), IntSlider(v…"
      ]
     },
     "metadata": {},
     "output_type": "display_data"
    }
   ],
   "source": [
    "# Test the function\n",
    "browse_image_slices(img1.array[0, 0].data.cpu().numpy())"
   ]
  },
  {
   "cell_type": "code",
   "execution_count": 5,
   "id": "c3b83608",
   "metadata": {
    "scrolled": true
   },
   "outputs": [
    {
     "data": {
      "application/vnd.jupyter.widget-view+json": {
       "model_id": "136567ab4fe54c0ebee0b9fc251b34b5",
       "version_major": 2,
       "version_minor": 0
      },
      "text/plain": [
       "interactive(children=(IntSlider(value=77, description='x', layout=Layout(width='600px'), max=154), IntSlider(v…"
      ]
     },
     "metadata": {},
     "output_type": "display_data"
    }
   ],
   "source": [
    "# Test the function\n",
    "browse_image_slices(img2.array[0, 0].data.cpu().numpy())"
   ]
  },
  {
   "cell_type": "code",
   "execution_count": 7,
   "id": "8bb4f09a",
   "metadata": {
    "scrolled": true
   },
   "outputs": [
    {
     "name": "stderr",
     "output_type": "stream",
     "text": [
      "/home/rohitrango/code/CUDANTs/cudants/utils/imageutils.py:77: UserWarning: operator() sees varying value in profiling, ignoring and this should be handled by GUARD logic (Triggered internally at ../torch/csrc/jit/codegen/cuda/parser.cpp:3668.)\n",
      "  image_smooth = separable_filtering(image, gaussians)\n",
      "/home/rohitrango/code/CUDANTs/cudants/registration/affine.py:76: UserWarning: operator() profile_node %70 : int[] = prim::profile_ivalue[profile_failed=\"varying profile values\"](%s.1)\n",
      " does not have profile information (Triggered internally at ../torch/csrc/jit/codegen/cuda/graph_fuser.cpp:105.)\n",
      "  moving_image_blur = separable_filtering(moving_arrays, gaussians)\n",
      "scale: 8, iter: 199/200, loss: -0.274762: 100%|███████████████████████████████████████████████████████████████████████████████████████████| 200/200 [00:00<00:00, 265.14it/s]\n",
      "scale: 4, iter: 99/100, loss: -0.179992: 100%|████████████████████████████████████████████████████████████████████████████████████████████| 100/100 [00:00<00:00, 262.86it/s]\n",
      "scale: 2, iter: 49/50, loss: -0.100654: 100%|███████████████████████████████████████████████████████████████████████████████████████████████| 50/50 [00:00<00:00, 158.06it/s]\n",
      "scale: 1, iter: 19/20, loss: -0.042974: 100%|████████████████████████████████████████████████████████████████████████████████████████████████| 20/20 [00:00<00:00, 24.98it/s]\n"
     ]
    }
   ],
   "source": [
    "from cudants.registration.affine import AffineRegistration\n",
    "fixed = BatchedImages([img1,])\n",
    "moving = BatchedImages([img2,])\n",
    "# transform = AffineRegistration([8, 4, 2, 1], [1000, 500, 250, 100], fixed, moving, \\\n",
    "transform = AffineRegistration([8, 4, 2, 1], [200, 100, 50, 20], fixed, moving, \\\n",
    "    loss_type='cc', optimizer='Adam', optimizer_lr=3e-4, optimizer_momentum=0.9)\n",
    "moved = transform.optimize(save_transformed=True)"
   ]
  },
  {
   "cell_type": "code",
   "execution_count": 8,
   "id": "45a833a4",
   "metadata": {},
   "outputs": [
    {
     "name": "stdout",
     "output_type": "stream",
     "text": [
      "tensor([[[ 1.0269,  0.0213, -0.0131, -0.0221],\n",
      "         [-0.0558,  0.9371,  0.0134, -0.0419],\n",
      "         [ 0.0212, -0.0457,  0.9351,  0.0070],\n",
      "         [ 0.0000,  0.0000,  0.0000,  1.0000]]], device='cuda:0',\n",
      "       grad_fn=<CatBackward0>)\n"
     ]
    }
   ],
   "source": [
    "print(transform.get_affine_matrix())"
   ]
  },
  {
   "cell_type": "code",
   "execution_count": 9,
   "id": "3ea94413",
   "metadata": {
    "scrolled": true
   },
   "outputs": [
    {
     "data": {
      "application/vnd.jupyter.widget-view+json": {
       "model_id": "2c21f883336246358e27e748f7243718",
       "version_major": 2,
       "version_minor": 0
      },
      "text/plain": [
       "interactive(children=(IntSlider(value=77, description='x', layout=Layout(width='600px'), max=154), IntSlider(v…"
      ]
     },
     "metadata": {},
     "output_type": "display_data"
    },
    {
     "data": {
      "application/vnd.jupyter.widget-view+json": {
       "model_id": "d6b739a35ee34d8684c34b322e3f872f",
       "version_major": 2,
       "version_minor": 0
      },
      "text/plain": [
       "interactive(children=(IntSlider(value=77, description='x', layout=Layout(width='600px'), max=154), IntSlider(v…"
      ]
     },
     "metadata": {},
     "output_type": "display_data"
    }
   ],
   "source": [
    "# browse_image_slices(moved[-1][0, 0].data.cpu().numpy() - img1.array[0, 0].data.cpu().numpy())\n",
    "browse_image_slices(moved[-1][0, 0].data.cpu().numpy())\n",
    "browse_image_slices(img1.array[0, 0].data.cpu().numpy())"
   ]
  },
  {
   "cell_type": "code",
   "execution_count": 10,
   "id": "66399136",
   "metadata": {
    "scrolled": true
   },
   "outputs": [
    {
     "data": {
      "application/vnd.jupyter.widget-view+json": {
       "model_id": "625fe8d77d1f446f984b1eb42efb7a73",
       "version_major": 2,
       "version_minor": 0
      },
      "text/plain": [
       "interactive(children=(IntSlider(value=77, description='x', layout=Layout(width='600px'), max=154), IntSlider(v…"
      ]
     },
     "metadata": {},
     "output_type": "display_data"
    }
   ],
   "source": [
    "browse_image_slices(moved[-1][0, 0].data.cpu().numpy() - img2.array[0, 0].data.cpu().numpy())"
   ]
  },
  {
   "cell_type": "code",
   "execution_count": 22,
   "id": "d50e1f95",
   "metadata": {
    "scrolled": true
   },
   "outputs": [
    {
     "name": "stderr",
     "output_type": "stream",
     "text": [
      "scale: 4, iter: 49/50, loss: 308.607971: 100%|█████████████████████████████████████████████████████████████████████████████████████████| 50/50 [00:00<00:00, 490.65it/s]\n",
      "scale: 2, iter: 49/50, loss: 285.621338: 100%|█████████████████████████████████████████████████████████████████████████████████████████| 50/50 [00:00<00:00, 155.12it/s]\n",
      "scale: 1, iter: 49/50, loss: 324.941711: 100%|██████████████████████████████████████████████████████████████████████████████████████████| 50/50 [00:02<00:00, 22.47it/s]\n"
     ]
    }
   ],
   "source": [
    "from cudants.registration.logdemons import LogDemonsRegistration\n",
    "reg = LogDemonsRegistration([4, 2, 1], [50, 50, 50], fixed, moving, \n",
    "# reg = LogDemonsRegistration([1], [100], fixed, moving,\n",
    "                eps_prime=0.5, init_affine=transform.get_affine_matrix(),  \n",
    "                optical_flow_method='gauss-newton', update_sigma=0.25,\n",
    "                                optical_flow_sigma=0.5, use_lie_bracket=False, symmetric=True)\n",
    "saved_deformable = reg.optimize(save_transformed=True)"
   ]
  },
  {
   "cell_type": "code",
   "execution_count": 23,
   "id": "e34d4c48",
   "metadata": {
    "scrolled": false
   },
   "outputs": [
    {
     "data": {
      "application/vnd.jupyter.widget-view+json": {
       "model_id": "3a06f8bf2ae64eca9cf09cdea43da1f8",
       "version_major": 2,
       "version_minor": 0
      },
      "text/plain": [
       "interactive(children=(IntSlider(value=77, description='x', layout=Layout(width='600px'), max=154), IntSlider(v…"
      ]
     },
     "metadata": {},
     "output_type": "display_data"
    },
    {
     "data": {
      "application/vnd.jupyter.widget-view+json": {
       "model_id": "ac41e862a4ea4bc08e1046b029e845b8",
       "version_major": 2,
       "version_minor": 0
      },
      "text/plain": [
       "interactive(children=(IntSlider(value=77, description='x', layout=Layout(width='600px'), max=154), IntSlider(v…"
      ]
     },
     "metadata": {},
     "output_type": "display_data"
    },
    {
     "data": {
      "application/vnd.jupyter.widget-view+json": {
       "model_id": "79273e0799884b9ea5264a18547152de",
       "version_major": 2,
       "version_minor": 0
      },
      "text/plain": [
       "interactive(children=(IntSlider(value=77, description='x', layout=Layout(width='600px'), max=154), IntSlider(v…"
      ]
     },
     "metadata": {},
     "output_type": "display_data"
    }
   ],
   "source": [
    "# browse_image_slices(saved_deformable[-1][0, 0].data.cpu().numpy()- moved[-1][0, 0].data.cpu().numpy())\n",
    "browse_image_slices(saved_deformable[-1][0, 0].data.cpu().numpy())\n",
    "browse_image_slices(img1.array[0, 0].data.cpu().numpy())\n",
    "browse_image_slices(img2.array[0, 0].data.cpu().numpy())\n",
    "# browse_image_slices(moved[-1][0, 0].data.cpu().numpy())"
   ]
  },
  {
   "cell_type": "markdown",
   "id": "86fb7027",
   "metadata": {},
   "source": [
    "## Check Optical Flow"
   ]
  },
  {
   "cell_type": "code",
   "execution_count": null,
   "id": "56cda4c5",
   "metadata": {
    "scrolled": true
   },
   "outputs": [],
   "source": [
    "browse_image_slices(reg.velocity_fields[-1][0].data.cpu().numpy() - reg.velocity_fields[-1].min().item())"
   ]
  },
  {
   "cell_type": "code",
   "execution_count": null,
   "id": "ee61bb89",
   "metadata": {},
   "outputs": [],
   "source": []
  }
 ],
 "metadata": {
  "kernelspec": {
   "display_name": "Python 3 (ipykernel)",
   "language": "python",
   "name": "python3"
  },
  "language_info": {
   "codemirror_mode": {
    "name": "ipython",
    "version": 3
   },
   "file_extension": ".py",
   "mimetype": "text/x-python",
   "name": "python",
   "nbconvert_exporter": "python",
   "pygments_lexer": "ipython3",
   "version": "3.7.16"
  }
 },
 "nbformat": 4,
 "nbformat_minor": 5
}
