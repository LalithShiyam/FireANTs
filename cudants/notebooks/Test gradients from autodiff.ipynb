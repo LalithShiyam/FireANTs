{
 "cells": [
  {
   "cell_type": "code",
   "execution_count": 47,
   "id": "84b2c306",
   "metadata": {},
   "outputs": [],
   "source": [
    "from cudants.utils.imageutils import scaling_and_squaring, image_gradient\n",
    "import torch"
   ]
  },
  {
   "cell_type": "code",
   "execution_count": 31,
   "id": "0cf05f33",
   "metadata": {},
   "outputs": [],
   "source": [
    "I = torch.meshgrid(torch.arange(100), torch.arange(100), torch.arange(100), indexing='ij')\n",
    "I = torch.stack(I, dim=-1).sum(dim=-1)[None, None].float() / 100"
   ]
  },
  {
   "cell_type": "code",
   "execution_count": 32,
   "id": "69746b1e",
   "metadata": {},
   "outputs": [],
   "source": [
    "J = torch.meshgrid(100 - torch.arange(100), torch.arange(100), torch.arange(100), indexing='ij')\n",
    "J = torch.stack(J, dim=-1).sum(dim=-1)[None, None].float() / 100"
   ]
  },
  {
   "cell_type": "code",
   "execution_count": 37,
   "id": "fc46f37f",
   "metadata": {},
   "outputs": [],
   "source": [
    "v = torch.randn(1, 100, 100, 100, 3) * 0.01"
   ]
  },
  {
   "cell_type": "code",
   "execution_count": 38,
   "id": "e1263885",
   "metadata": {},
   "outputs": [
    {
     "name": "stderr",
     "output_type": "stream",
     "text": [
      "/home/rohitrango/miniconda3/envs/cudants/lib/python3.7/site-packages/torch/nn/functional.py:4290: UserWarning: Default grid_sample and affine_grid behavior has changed to align_corners=False since 1.3.0. Please specify align_corners=True if the old behavior is desired. See the documentation of grid_sample for details.\n",
      "  \"Default grid_sample and affine_grid behavior has changed \"\n"
     ]
    }
   ],
   "source": [
    "from torch.nn import functional as F\n",
    "grid = F.affine_grid(torch.eye(3, 4)[None], size=I.shape)"
   ]
  },
  {
   "cell_type": "code",
   "execution_count": 39,
   "id": "01b02b39",
   "metadata": {},
   "outputs": [],
   "source": [
    "u = scaling_and_squaring(v, grid)"
   ]
  },
  {
   "cell_type": "markdown",
   "id": "bc9c4633",
   "metadata": {},
   "source": [
    "## Method 1 - Autodiff"
   ]
  },
  {
   "cell_type": "code",
   "execution_count": 40,
   "id": "0786dcf4",
   "metadata": {},
   "outputs": [],
   "source": [
    "warp = grid + u"
   ]
  },
  {
   "cell_type": "code",
   "execution_count": 41,
   "id": "65d60416",
   "metadata": {},
   "outputs": [],
   "source": [
    "warp.requires_grad_(True)\n",
    "loss = F.mse_loss(F.grid_sample(I, warp, align_corners=True), J)\n",
    "loss.backward()"
   ]
  },
  {
   "cell_type": "code",
   "execution_count": 42,
   "id": "b769965a",
   "metadata": {},
   "outputs": [],
   "source": [
    "gradval = warp.grad + 0"
   ]
  },
  {
   "cell_type": "markdown",
   "id": "d29dfb9e",
   "metadata": {},
   "source": [
    "## Method 2 - Manual"
   ]
  },
  {
   "cell_type": "code",
   "execution_count": 64,
   "id": "3f2fd680",
   "metadata": {},
   "outputs": [],
   "source": [
    "gradimg = F.grid_sample(I, warp, align_corners=True) - J\n",
    "gradjac = torch.zeros(1, 100, 100, 100, 3, 3)\n",
    "for i in range(3):\n",
    "    warpi = warp[:, None, ..., i].cuda()\n",
    "    gradwarpi = image_gradient(warpi).cpu()\n",
    "    gradjac[..., i] = gradwarpi.permute(0, 2, 3, 4, 1)"
   ]
  },
  {
   "cell_type": "code",
   "execution_count": 65,
   "id": "b585acd2",
   "metadata": {},
   "outputs": [],
   "source": [
    "detjac = torch.linalg.det(gradjac).abs()"
   ]
  },
  {
   "cell_type": "code",
   "execution_count": 80,
   "id": "a792ac8d",
   "metadata": {},
   "outputs": [
    {
     "data": {
      "text/plain": [
       "tensor(0.0003, grad_fn=<MaxBackward1>)"
      ]
     },
     "execution_count": 80,
     "metadata": {},
     "output_type": "execute_result"
    }
   ],
   "source": [
    "detjac.max()"
   ]
  },
  {
   "cell_type": "code",
   "execution_count": 67,
   "id": "73d06007",
   "metadata": {},
   "outputs": [],
   "source": [
    "gradI = image_gradient(F.grid_sample(I, warp, align_corners=True).cuda()).cpu()"
   ]
  },
  {
   "cell_type": "code",
   "execution_count": 69,
   "id": "a9287e13",
   "metadata": {},
   "outputs": [
    {
     "data": {
      "text/plain": [
       "(torch.Size([1, 1, 100, 100, 100]),\n",
       " torch.Size([1, 3, 100, 100, 100]),\n",
       " torch.Size([1, 100, 100, 100]))"
      ]
     },
     "execution_count": 69,
     "metadata": {},
     "output_type": "execute_result"
    }
   ],
   "source": [
    "gradimg.shape, gradI.shape, detjac.shape"
   ]
  },
  {
   "cell_type": "code",
   "execution_count": 70,
   "id": "ce4c170f",
   "metadata": {},
   "outputs": [],
   "source": [
    "grad = gradimg * gradI * detjac[:, None]"
   ]
  },
  {
   "cell_type": "code",
   "execution_count": 72,
   "id": "ad58243a",
   "metadata": {},
   "outputs": [],
   "source": [
    "grad = grad.permute(0, 2, 3, 4, 1)"
   ]
  },
  {
   "cell_type": "code",
   "execution_count": 78,
   "id": "fbd0bbe2",
   "metadata": {},
   "outputs": [
    {
     "data": {
      "text/plain": [
       "tensor(8.8490e-05)"
      ]
     },
     "execution_count": 78,
     "metadata": {},
     "output_type": "execute_result"
    }
   ],
   "source": [
    "gradval.max()"
   ]
  },
  {
   "cell_type": "code",
   "execution_count": null,
   "id": "485c9c3b",
   "metadata": {},
   "outputs": [],
   "source": []
  }
 ],
 "metadata": {
  "kernelspec": {
   "display_name": "Python 3 (ipykernel)",
   "language": "python",
   "name": "python3"
  },
  "language_info": {
   "codemirror_mode": {
    "name": "ipython",
    "version": 3
   },
   "file_extension": ".py",
   "mimetype": "text/x-python",
   "name": "python",
   "nbconvert_exporter": "python",
   "pygments_lexer": "ipython3",
   "version": "3.7.16"
  }
 },
 "nbformat": 4,
 "nbformat_minor": 5
}
